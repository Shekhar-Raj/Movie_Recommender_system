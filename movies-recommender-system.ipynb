{
 "cells": [
  {
   "cell_type": "code",
   "execution_count": 1,
   "id": "c939978a",
   "metadata": {
    "_cell_guid": "b1076dfc-b9ad-4769-8c92-a6c4dae69d19",
    "_uuid": "8f2839f25d086af736a60e9eeb907d3b93b6e0e5",
    "execution": {
     "iopub.execute_input": "2023-08-03T01:50:50.248679Z",
     "iopub.status.busy": "2023-08-03T01:50:50.248305Z",
     "iopub.status.idle": "2023-08-03T01:50:50.264693Z",
     "shell.execute_reply": "2023-08-03T01:50:50.263268Z"
    },
    "papermill": {
     "duration": 0.033243,
     "end_time": "2023-08-03T01:50:50.266792",
     "exception": false,
     "start_time": "2023-08-03T01:50:50.233549",
     "status": "completed"
    },
    "tags": []
   },
   "outputs": [
    {
     "name": "stdout",
     "output_type": "stream",
     "text": [
      "/kaggle/input/tmdb-movie-metadata/tmdb_5000_movies.csv\n",
      "/kaggle/input/tmdb-movie-metadata/tmdb_5000_credits.csv\n"
     ]
    }
   ],
   "source": [
    "# This Python 3 environment comes with many helpful analytics libraries installed\n",
    "# It is defined by the kaggle/python Docker image: https://github.com/kaggle/docker-python\n",
    "# For example, here's several helpful packages to load\n",
    "\n",
    "import numpy as np # linear algebra\n",
    "import pandas as pd # data processing, CSV file I/O (e.g. pd.read_csv)\n",
    "\n",
    "# Input data files are available in the read-only \"../input/\" directory\n",
    "# For example, running this (by clicking run or pressing Shift+Enter) will list all files under the input directory\n",
    "\n",
    "import os\n",
    "for dirname, _, filenames in os.walk('/kaggle/input'):\n",
    "    for filename in filenames:\n",
    "        print(os.path.join(dirname, filename))\n",
    "\n",
    "# You can write up to 20GB to the current directory (/kaggle/working/) that gets preserved as output when you create a version using \"Save & Run All\" \n",
    "# You can also write temporary files to /kaggle/temp/, but they won't be saved outside of the current session"
   ]
  },
  {
   "cell_type": "code",
   "execution_count": 2,
   "id": "6fe032f7",
   "metadata": {
    "execution": {
     "iopub.execute_input": "2023-08-03T01:50:50.295661Z",
     "iopub.status.busy": "2023-08-03T01:50:50.294825Z",
     "iopub.status.idle": "2023-08-03T01:50:50.299664Z",
     "shell.execute_reply": "2023-08-03T01:50:50.298140Z"
    },
    "papermill": {
     "duration": 0.020412,
     "end_time": "2023-08-03T01:50:50.301625",
     "exception": false,
     "start_time": "2023-08-03T01:50:50.281213",
     "status": "completed"
    },
    "tags": []
   },
   "outputs": [],
   "source": [
    "import pandas as pd\n",
    "import numpy as np"
   ]
  },
  {
   "cell_type": "code",
   "execution_count": 3,
   "id": "fe3c12da",
   "metadata": {
    "execution": {
     "iopub.execute_input": "2023-08-03T01:50:50.328051Z",
     "iopub.status.busy": "2023-08-03T01:50:50.327693Z",
     "iopub.status.idle": "2023-08-03T01:50:51.120556Z",
     "shell.execute_reply": "2023-08-03T01:50:51.119318Z"
    },
    "papermill": {
     "duration": 0.808997,
     "end_time": "2023-08-03T01:50:51.123065",
     "exception": false,
     "start_time": "2023-08-03T01:50:50.314068",
     "status": "completed"
    },
    "tags": []
   },
   "outputs": [],
   "source": [
    "movies=pd.read_csv('/kaggle/input/tmdb-movie-metadata/tmdb_5000_movies.csv')\n",
    "credits=pd.read_csv('/kaggle/input/tmdb-movie-metadata/tmdb_5000_credits.csv')"
   ]
  },
  {
   "cell_type": "code",
   "execution_count": 4,
   "id": "1da7530c",
   "metadata": {
    "execution": {
     "iopub.execute_input": "2023-08-03T01:50:51.150959Z",
     "iopub.status.busy": "2023-08-03T01:50:51.150571Z",
     "iopub.status.idle": "2023-08-03T01:50:51.179667Z",
     "shell.execute_reply": "2023-08-03T01:50:51.178410Z"
    },
    "papermill": {
     "duration": 0.046232,
     "end_time": "2023-08-03T01:50:51.182741",
     "exception": false,
     "start_time": "2023-08-03T01:50:51.136509",
     "status": "completed"
    },
    "tags": []
   },
   "outputs": [
    {
     "data": {
      "text/html": [
       "<div>\n",
       "<style scoped>\n",
       "    .dataframe tbody tr th:only-of-type {\n",
       "        vertical-align: middle;\n",
       "    }\n",
       "\n",
       "    .dataframe tbody tr th {\n",
       "        vertical-align: top;\n",
       "    }\n",
       "\n",
       "    .dataframe thead th {\n",
       "        text-align: right;\n",
       "    }\n",
       "</style>\n",
       "<table border=\"1\" class=\"dataframe\">\n",
       "  <thead>\n",
       "    <tr style=\"text-align: right;\">\n",
       "      <th></th>\n",
       "      <th>budget</th>\n",
       "      <th>genres</th>\n",
       "      <th>homepage</th>\n",
       "      <th>id</th>\n",
       "      <th>keywords</th>\n",
       "      <th>original_language</th>\n",
       "      <th>original_title</th>\n",
       "      <th>overview</th>\n",
       "      <th>popularity</th>\n",
       "      <th>production_companies</th>\n",
       "      <th>production_countries</th>\n",
       "      <th>release_date</th>\n",
       "      <th>revenue</th>\n",
       "      <th>runtime</th>\n",
       "      <th>spoken_languages</th>\n",
       "      <th>status</th>\n",
       "      <th>tagline</th>\n",
       "      <th>title</th>\n",
       "      <th>vote_average</th>\n",
       "      <th>vote_count</th>\n",
       "    </tr>\n",
       "  </thead>\n",
       "  <tbody>\n",
       "    <tr>\n",
       "      <th>0</th>\n",
       "      <td>237000000</td>\n",
       "      <td>[{\"id\": 28, \"name\": \"Action\"}, {\"id\": 12, \"nam...</td>\n",
       "      <td>http://www.avatarmovie.com/</td>\n",
       "      <td>19995</td>\n",
       "      <td>[{\"id\": 1463, \"name\": \"culture clash\"}, {\"id\":...</td>\n",
       "      <td>en</td>\n",
       "      <td>Avatar</td>\n",
       "      <td>In the 22nd century, a paraplegic Marine is di...</td>\n",
       "      <td>150.437577</td>\n",
       "      <td>[{\"name\": \"Ingenious Film Partners\", \"id\": 289...</td>\n",
       "      <td>[{\"iso_3166_1\": \"US\", \"name\": \"United States o...</td>\n",
       "      <td>2009-12-10</td>\n",
       "      <td>2787965087</td>\n",
       "      <td>162.0</td>\n",
       "      <td>[{\"iso_639_1\": \"en\", \"name\": \"English\"}, {\"iso...</td>\n",
       "      <td>Released</td>\n",
       "      <td>Enter the World of Pandora.</td>\n",
       "      <td>Avatar</td>\n",
       "      <td>7.2</td>\n",
       "      <td>11800</td>\n",
       "    </tr>\n",
       "  </tbody>\n",
       "</table>\n",
       "</div>"
      ],
      "text/plain": [
       "      budget                                             genres  \\\n",
       "0  237000000  [{\"id\": 28, \"name\": \"Action\"}, {\"id\": 12, \"nam...   \n",
       "\n",
       "                      homepage     id  \\\n",
       "0  http://www.avatarmovie.com/  19995   \n",
       "\n",
       "                                            keywords original_language  \\\n",
       "0  [{\"id\": 1463, \"name\": \"culture clash\"}, {\"id\":...                en   \n",
       "\n",
       "  original_title                                           overview  \\\n",
       "0         Avatar  In the 22nd century, a paraplegic Marine is di...   \n",
       "\n",
       "   popularity                               production_companies  \\\n",
       "0  150.437577  [{\"name\": \"Ingenious Film Partners\", \"id\": 289...   \n",
       "\n",
       "                                production_countries release_date     revenue  \\\n",
       "0  [{\"iso_3166_1\": \"US\", \"name\": \"United States o...   2009-12-10  2787965087   \n",
       "\n",
       "   runtime                                   spoken_languages    status  \\\n",
       "0    162.0  [{\"iso_639_1\": \"en\", \"name\": \"English\"}, {\"iso...  Released   \n",
       "\n",
       "                       tagline   title  vote_average  vote_count  \n",
       "0  Enter the World of Pandora.  Avatar           7.2       11800  "
      ]
     },
     "execution_count": 4,
     "metadata": {},
     "output_type": "execute_result"
    }
   ],
   "source": [
    "movies.head(1)"
   ]
  },
  {
   "cell_type": "code",
   "execution_count": 5,
   "id": "c601432b",
   "metadata": {
    "execution": {
     "iopub.execute_input": "2023-08-03T01:50:51.211018Z",
     "iopub.status.busy": "2023-08-03T01:50:51.210643Z",
     "iopub.status.idle": "2023-08-03T01:50:51.222073Z",
     "shell.execute_reply": "2023-08-03T01:50:51.220390Z"
    },
    "papermill": {
     "duration": 0.0283,
     "end_time": "2023-08-03T01:50:51.224767",
     "exception": false,
     "start_time": "2023-08-03T01:50:51.196467",
     "status": "completed"
    },
    "tags": []
   },
   "outputs": [
    {
     "data": {
      "text/html": [
       "<div>\n",
       "<style scoped>\n",
       "    .dataframe tbody tr th:only-of-type {\n",
       "        vertical-align: middle;\n",
       "    }\n",
       "\n",
       "    .dataframe tbody tr th {\n",
       "        vertical-align: top;\n",
       "    }\n",
       "\n",
       "    .dataframe thead th {\n",
       "        text-align: right;\n",
       "    }\n",
       "</style>\n",
       "<table border=\"1\" class=\"dataframe\">\n",
       "  <thead>\n",
       "    <tr style=\"text-align: right;\">\n",
       "      <th></th>\n",
       "      <th>movie_id</th>\n",
       "      <th>title</th>\n",
       "      <th>cast</th>\n",
       "      <th>crew</th>\n",
       "    </tr>\n",
       "  </thead>\n",
       "  <tbody>\n",
       "    <tr>\n",
       "      <th>0</th>\n",
       "      <td>19995</td>\n",
       "      <td>Avatar</td>\n",
       "      <td>[{\"cast_id\": 242, \"character\": \"Jake Sully\", \"...</td>\n",
       "      <td>[{\"credit_id\": \"52fe48009251416c750aca23\", \"de...</td>\n",
       "    </tr>\n",
       "  </tbody>\n",
       "</table>\n",
       "</div>"
      ],
      "text/plain": [
       "   movie_id   title                                               cast  \\\n",
       "0     19995  Avatar  [{\"cast_id\": 242, \"character\": \"Jake Sully\", \"...   \n",
       "\n",
       "                                                crew  \n",
       "0  [{\"credit_id\": \"52fe48009251416c750aca23\", \"de...  "
      ]
     },
     "execution_count": 5,
     "metadata": {},
     "output_type": "execute_result"
    }
   ],
   "source": [
    "credits.head(1)"
   ]
  },
  {
   "cell_type": "markdown",
   "id": "6c42f08d",
   "metadata": {
    "papermill": {
     "duration": 0.012751,
     "end_time": "2023-08-03T01:50:51.250816",
     "exception": false,
     "start_time": "2023-08-03T01:50:51.238065",
     "status": "completed"
    },
    "tags": []
   },
   "source": [
    "**MERGE MOVIES AND CREDIT**"
   ]
  },
  {
   "cell_type": "code",
   "execution_count": 6,
   "id": "3ff45117",
   "metadata": {
    "execution": {
     "iopub.execute_input": "2023-08-03T01:50:51.278200Z",
     "iopub.status.busy": "2023-08-03T01:50:51.277850Z",
     "iopub.status.idle": "2023-08-03T01:50:51.305008Z",
     "shell.execute_reply": "2023-08-03T01:50:51.304022Z"
    },
    "papermill": {
     "duration": 0.043469,
     "end_time": "2023-08-03T01:50:51.307250",
     "exception": false,
     "start_time": "2023-08-03T01:50:51.263781",
     "status": "completed"
    },
    "tags": []
   },
   "outputs": [],
   "source": [
    "movies=movies.merge(credits,on='title')"
   ]
  },
  {
   "cell_type": "code",
   "execution_count": 7,
   "id": "4c2e01af",
   "metadata": {
    "execution": {
     "iopub.execute_input": "2023-08-03T01:50:51.335625Z",
     "iopub.status.busy": "2023-08-03T01:50:51.335247Z",
     "iopub.status.idle": "2023-08-03T01:50:51.357782Z",
     "shell.execute_reply": "2023-08-03T01:50:51.356768Z"
    },
    "papermill": {
     "duration": 0.039543,
     "end_time": "2023-08-03T01:50:51.359859",
     "exception": false,
     "start_time": "2023-08-03T01:50:51.320316",
     "status": "completed"
    },
    "tags": []
   },
   "outputs": [
    {
     "data": {
      "text/html": [
       "<div>\n",
       "<style scoped>\n",
       "    .dataframe tbody tr th:only-of-type {\n",
       "        vertical-align: middle;\n",
       "    }\n",
       "\n",
       "    .dataframe tbody tr th {\n",
       "        vertical-align: top;\n",
       "    }\n",
       "\n",
       "    .dataframe thead th {\n",
       "        text-align: right;\n",
       "    }\n",
       "</style>\n",
       "<table border=\"1\" class=\"dataframe\">\n",
       "  <thead>\n",
       "    <tr style=\"text-align: right;\">\n",
       "      <th></th>\n",
       "      <th>budget</th>\n",
       "      <th>genres</th>\n",
       "      <th>homepage</th>\n",
       "      <th>id</th>\n",
       "      <th>keywords</th>\n",
       "      <th>original_language</th>\n",
       "      <th>original_title</th>\n",
       "      <th>overview</th>\n",
       "      <th>popularity</th>\n",
       "      <th>production_companies</th>\n",
       "      <th>...</th>\n",
       "      <th>runtime</th>\n",
       "      <th>spoken_languages</th>\n",
       "      <th>status</th>\n",
       "      <th>tagline</th>\n",
       "      <th>title</th>\n",
       "      <th>vote_average</th>\n",
       "      <th>vote_count</th>\n",
       "      <th>movie_id</th>\n",
       "      <th>cast</th>\n",
       "      <th>crew</th>\n",
       "    </tr>\n",
       "  </thead>\n",
       "  <tbody>\n",
       "    <tr>\n",
       "      <th>0</th>\n",
       "      <td>237000000</td>\n",
       "      <td>[{\"id\": 28, \"name\": \"Action\"}, {\"id\": 12, \"nam...</td>\n",
       "      <td>http://www.avatarmovie.com/</td>\n",
       "      <td>19995</td>\n",
       "      <td>[{\"id\": 1463, \"name\": \"culture clash\"}, {\"id\":...</td>\n",
       "      <td>en</td>\n",
       "      <td>Avatar</td>\n",
       "      <td>In the 22nd century, a paraplegic Marine is di...</td>\n",
       "      <td>150.437577</td>\n",
       "      <td>[{\"name\": \"Ingenious Film Partners\", \"id\": 289...</td>\n",
       "      <td>...</td>\n",
       "      <td>162.0</td>\n",
       "      <td>[{\"iso_639_1\": \"en\", \"name\": \"English\"}, {\"iso...</td>\n",
       "      <td>Released</td>\n",
       "      <td>Enter the World of Pandora.</td>\n",
       "      <td>Avatar</td>\n",
       "      <td>7.2</td>\n",
       "      <td>11800</td>\n",
       "      <td>19995</td>\n",
       "      <td>[{\"cast_id\": 242, \"character\": \"Jake Sully\", \"...</td>\n",
       "      <td>[{\"credit_id\": \"52fe48009251416c750aca23\", \"de...</td>\n",
       "    </tr>\n",
       "  </tbody>\n",
       "</table>\n",
       "<p>1 rows × 23 columns</p>\n",
       "</div>"
      ],
      "text/plain": [
       "      budget                                             genres  \\\n",
       "0  237000000  [{\"id\": 28, \"name\": \"Action\"}, {\"id\": 12, \"nam...   \n",
       "\n",
       "                      homepage     id  \\\n",
       "0  http://www.avatarmovie.com/  19995   \n",
       "\n",
       "                                            keywords original_language  \\\n",
       "0  [{\"id\": 1463, \"name\": \"culture clash\"}, {\"id\":...                en   \n",
       "\n",
       "  original_title                                           overview  \\\n",
       "0         Avatar  In the 22nd century, a paraplegic Marine is di...   \n",
       "\n",
       "   popularity                               production_companies  ... runtime  \\\n",
       "0  150.437577  [{\"name\": \"Ingenious Film Partners\", \"id\": 289...  ...   162.0   \n",
       "\n",
       "                                    spoken_languages    status  \\\n",
       "0  [{\"iso_639_1\": \"en\", \"name\": \"English\"}, {\"iso...  Released   \n",
       "\n",
       "                       tagline   title vote_average vote_count movie_id  \\\n",
       "0  Enter the World of Pandora.  Avatar          7.2      11800    19995   \n",
       "\n",
       "                                                cast  \\\n",
       "0  [{\"cast_id\": 242, \"character\": \"Jake Sully\", \"...   \n",
       "\n",
       "                                                crew  \n",
       "0  [{\"credit_id\": \"52fe48009251416c750aca23\", \"de...  \n",
       "\n",
       "[1 rows x 23 columns]"
      ]
     },
     "execution_count": 7,
     "metadata": {},
     "output_type": "execute_result"
    }
   ],
   "source": [
    "movies.head(1)"
   ]
  },
  {
   "cell_type": "code",
   "execution_count": 8,
   "id": "c7f2d4a6",
   "metadata": {
    "execution": {
     "iopub.execute_input": "2023-08-03T01:50:51.389326Z",
     "iopub.status.busy": "2023-08-03T01:50:51.388974Z",
     "iopub.status.idle": "2023-08-03T01:50:51.421545Z",
     "shell.execute_reply": "2023-08-03T01:50:51.420406Z"
    },
    "papermill": {
     "duration": 0.050398,
     "end_time": "2023-08-03T01:50:51.423587",
     "exception": false,
     "start_time": "2023-08-03T01:50:51.373189",
     "status": "completed"
    },
    "tags": []
   },
   "outputs": [
    {
     "name": "stdout",
     "output_type": "stream",
     "text": [
      "<class 'pandas.core.frame.DataFrame'>\n",
      "Int64Index: 4809 entries, 0 to 4808\n",
      "Data columns (total 23 columns):\n",
      " #   Column                Non-Null Count  Dtype  \n",
      "---  ------                --------------  -----  \n",
      " 0   budget                4809 non-null   int64  \n",
      " 1   genres                4809 non-null   object \n",
      " 2   homepage              1713 non-null   object \n",
      " 3   id                    4809 non-null   int64  \n",
      " 4   keywords              4809 non-null   object \n",
      " 5   original_language     4809 non-null   object \n",
      " 6   original_title        4809 non-null   object \n",
      " 7   overview              4806 non-null   object \n",
      " 8   popularity            4809 non-null   float64\n",
      " 9   production_companies  4809 non-null   object \n",
      " 10  production_countries  4809 non-null   object \n",
      " 11  release_date          4808 non-null   object \n",
      " 12  revenue               4809 non-null   int64  \n",
      " 13  runtime               4807 non-null   float64\n",
      " 14  spoken_languages      4809 non-null   object \n",
      " 15  status                4809 non-null   object \n",
      " 16  tagline               3965 non-null   object \n",
      " 17  title                 4809 non-null   object \n",
      " 18  vote_average          4809 non-null   float64\n",
      " 19  vote_count            4809 non-null   int64  \n",
      " 20  movie_id              4809 non-null   int64  \n",
      " 21  cast                  4809 non-null   object \n",
      " 22  crew                  4809 non-null   object \n",
      "dtypes: float64(3), int64(5), object(15)\n",
      "memory usage: 901.7+ KB\n"
     ]
    }
   ],
   "source": [
    "movies.info()"
   ]
  },
  {
   "cell_type": "code",
   "execution_count": 9,
   "id": "217d88dc",
   "metadata": {
    "execution": {
     "iopub.execute_input": "2023-08-03T01:50:51.451467Z",
     "iopub.status.busy": "2023-08-03T01:50:51.451121Z",
     "iopub.status.idle": "2023-08-03T01:50:51.461356Z",
     "shell.execute_reply": "2023-08-03T01:50:51.459771Z"
    },
    "papermill": {
     "duration": 0.027138,
     "end_time": "2023-08-03T01:50:51.463954",
     "exception": false,
     "start_time": "2023-08-03T01:50:51.436816",
     "status": "completed"
    },
    "tags": []
   },
   "outputs": [],
   "source": [
    "#genres\n",
    "#id\n",
    "#keywords\n",
    "#title\n",
    "#overview\n",
    "#cast\n",
    "#crew\n",
    "\n",
    "movies=movies[['movie_id','title','overview','genres','keywords','cast','crew']]\n",
    "\n"
   ]
  },
  {
   "cell_type": "code",
   "execution_count": 10,
   "id": "d630d0c8",
   "metadata": {
    "execution": {
     "iopub.execute_input": "2023-08-03T01:50:51.491882Z",
     "iopub.status.busy": "2023-08-03T01:50:51.491501Z",
     "iopub.status.idle": "2023-08-03T01:50:51.506597Z",
     "shell.execute_reply": "2023-08-03T01:50:51.505624Z"
    },
    "papermill": {
     "duration": 0.031182,
     "end_time": "2023-08-03T01:50:51.508587",
     "exception": false,
     "start_time": "2023-08-03T01:50:51.477405",
     "status": "completed"
    },
    "tags": []
   },
   "outputs": [
    {
     "data": {
      "text/html": [
       "<div>\n",
       "<style scoped>\n",
       "    .dataframe tbody tr th:only-of-type {\n",
       "        vertical-align: middle;\n",
       "    }\n",
       "\n",
       "    .dataframe tbody tr th {\n",
       "        vertical-align: top;\n",
       "    }\n",
       "\n",
       "    .dataframe thead th {\n",
       "        text-align: right;\n",
       "    }\n",
       "</style>\n",
       "<table border=\"1\" class=\"dataframe\">\n",
       "  <thead>\n",
       "    <tr style=\"text-align: right;\">\n",
       "      <th></th>\n",
       "      <th>movie_id</th>\n",
       "      <th>title</th>\n",
       "      <th>overview</th>\n",
       "      <th>genres</th>\n",
       "      <th>keywords</th>\n",
       "      <th>cast</th>\n",
       "      <th>crew</th>\n",
       "    </tr>\n",
       "  </thead>\n",
       "  <tbody>\n",
       "    <tr>\n",
       "      <th>0</th>\n",
       "      <td>19995</td>\n",
       "      <td>Avatar</td>\n",
       "      <td>In the 22nd century, a paraplegic Marine is di...</td>\n",
       "      <td>[{\"id\": 28, \"name\": \"Action\"}, {\"id\": 12, \"nam...</td>\n",
       "      <td>[{\"id\": 1463, \"name\": \"culture clash\"}, {\"id\":...</td>\n",
       "      <td>[{\"cast_id\": 242, \"character\": \"Jake Sully\", \"...</td>\n",
       "      <td>[{\"credit_id\": \"52fe48009251416c750aca23\", \"de...</td>\n",
       "    </tr>\n",
       "    <tr>\n",
       "      <th>1</th>\n",
       "      <td>285</td>\n",
       "      <td>Pirates of the Caribbean: At World's End</td>\n",
       "      <td>Captain Barbossa, long believed to be dead, ha...</td>\n",
       "      <td>[{\"id\": 12, \"name\": \"Adventure\"}, {\"id\": 14, \"...</td>\n",
       "      <td>[{\"id\": 270, \"name\": \"ocean\"}, {\"id\": 726, \"na...</td>\n",
       "      <td>[{\"cast_id\": 4, \"character\": \"Captain Jack Spa...</td>\n",
       "      <td>[{\"credit_id\": \"52fe4232c3a36847f800b579\", \"de...</td>\n",
       "    </tr>\n",
       "    <tr>\n",
       "      <th>2</th>\n",
       "      <td>206647</td>\n",
       "      <td>Spectre</td>\n",
       "      <td>A cryptic message from Bond’s past sends him o...</td>\n",
       "      <td>[{\"id\": 28, \"name\": \"Action\"}, {\"id\": 12, \"nam...</td>\n",
       "      <td>[{\"id\": 470, \"name\": \"spy\"}, {\"id\": 818, \"name...</td>\n",
       "      <td>[{\"cast_id\": 1, \"character\": \"James Bond\", \"cr...</td>\n",
       "      <td>[{\"credit_id\": \"54805967c3a36829b5002c41\", \"de...</td>\n",
       "    </tr>\n",
       "    <tr>\n",
       "      <th>3</th>\n",
       "      <td>49026</td>\n",
       "      <td>The Dark Knight Rises</td>\n",
       "      <td>Following the death of District Attorney Harve...</td>\n",
       "      <td>[{\"id\": 28, \"name\": \"Action\"}, {\"id\": 80, \"nam...</td>\n",
       "      <td>[{\"id\": 849, \"name\": \"dc comics\"}, {\"id\": 853,...</td>\n",
       "      <td>[{\"cast_id\": 2, \"character\": \"Bruce Wayne / Ba...</td>\n",
       "      <td>[{\"credit_id\": \"52fe4781c3a36847f81398c3\", \"de...</td>\n",
       "    </tr>\n",
       "    <tr>\n",
       "      <th>4</th>\n",
       "      <td>49529</td>\n",
       "      <td>John Carter</td>\n",
       "      <td>John Carter is a war-weary, former military ca...</td>\n",
       "      <td>[{\"id\": 28, \"name\": \"Action\"}, {\"id\": 12, \"nam...</td>\n",
       "      <td>[{\"id\": 818, \"name\": \"based on novel\"}, {\"id\":...</td>\n",
       "      <td>[{\"cast_id\": 5, \"character\": \"John Carter\", \"c...</td>\n",
       "      <td>[{\"credit_id\": \"52fe479ac3a36847f813eaa3\", \"de...</td>\n",
       "    </tr>\n",
       "  </tbody>\n",
       "</table>\n",
       "</div>"
      ],
      "text/plain": [
       "   movie_id                                     title  \\\n",
       "0     19995                                    Avatar   \n",
       "1       285  Pirates of the Caribbean: At World's End   \n",
       "2    206647                                   Spectre   \n",
       "3     49026                     The Dark Knight Rises   \n",
       "4     49529                               John Carter   \n",
       "\n",
       "                                            overview  \\\n",
       "0  In the 22nd century, a paraplegic Marine is di...   \n",
       "1  Captain Barbossa, long believed to be dead, ha...   \n",
       "2  A cryptic message from Bond’s past sends him o...   \n",
       "3  Following the death of District Attorney Harve...   \n",
       "4  John Carter is a war-weary, former military ca...   \n",
       "\n",
       "                                              genres  \\\n",
       "0  [{\"id\": 28, \"name\": \"Action\"}, {\"id\": 12, \"nam...   \n",
       "1  [{\"id\": 12, \"name\": \"Adventure\"}, {\"id\": 14, \"...   \n",
       "2  [{\"id\": 28, \"name\": \"Action\"}, {\"id\": 12, \"nam...   \n",
       "3  [{\"id\": 28, \"name\": \"Action\"}, {\"id\": 80, \"nam...   \n",
       "4  [{\"id\": 28, \"name\": \"Action\"}, {\"id\": 12, \"nam...   \n",
       "\n",
       "                                            keywords  \\\n",
       "0  [{\"id\": 1463, \"name\": \"culture clash\"}, {\"id\":...   \n",
       "1  [{\"id\": 270, \"name\": \"ocean\"}, {\"id\": 726, \"na...   \n",
       "2  [{\"id\": 470, \"name\": \"spy\"}, {\"id\": 818, \"name...   \n",
       "3  [{\"id\": 849, \"name\": \"dc comics\"}, {\"id\": 853,...   \n",
       "4  [{\"id\": 818, \"name\": \"based on novel\"}, {\"id\":...   \n",
       "\n",
       "                                                cast  \\\n",
       "0  [{\"cast_id\": 242, \"character\": \"Jake Sully\", \"...   \n",
       "1  [{\"cast_id\": 4, \"character\": \"Captain Jack Spa...   \n",
       "2  [{\"cast_id\": 1, \"character\": \"James Bond\", \"cr...   \n",
       "3  [{\"cast_id\": 2, \"character\": \"Bruce Wayne / Ba...   \n",
       "4  [{\"cast_id\": 5, \"character\": \"John Carter\", \"c...   \n",
       "\n",
       "                                                crew  \n",
       "0  [{\"credit_id\": \"52fe48009251416c750aca23\", \"de...  \n",
       "1  [{\"credit_id\": \"52fe4232c3a36847f800b579\", \"de...  \n",
       "2  [{\"credit_id\": \"54805967c3a36829b5002c41\", \"de...  \n",
       "3  [{\"credit_id\": \"52fe4781c3a36847f81398c3\", \"de...  \n",
       "4  [{\"credit_id\": \"52fe479ac3a36847f813eaa3\", \"de...  "
      ]
     },
     "execution_count": 10,
     "metadata": {},
     "output_type": "execute_result"
    }
   ],
   "source": [
    "movies.head()"
   ]
  },
  {
   "cell_type": "markdown",
   "id": "a7979d1f",
   "metadata": {
    "papermill": {
     "duration": 0.01303,
     "end_time": "2023-08-03T01:50:51.535237",
     "exception": false,
     "start_time": "2023-08-03T01:50:51.522207",
     "status": "completed"
    },
    "tags": []
   },
   "source": []
  },
  {
   "cell_type": "code",
   "execution_count": 11,
   "id": "f12166a0",
   "metadata": {
    "execution": {
     "iopub.execute_input": "2023-08-03T01:50:51.564266Z",
     "iopub.status.busy": "2023-08-03T01:50:51.562941Z",
     "iopub.status.idle": "2023-08-03T01:50:51.579454Z",
     "shell.execute_reply": "2023-08-03T01:50:51.578481Z"
    },
    "papermill": {
     "duration": 0.033419,
     "end_time": "2023-08-03T01:50:51.581807",
     "exception": false,
     "start_time": "2023-08-03T01:50:51.548388",
     "status": "completed"
    },
    "tags": []
   },
   "outputs": [
    {
     "data": {
      "text/plain": [
       "movie_id    0\n",
       "title       0\n",
       "overview    3\n",
       "genres      0\n",
       "keywords    0\n",
       "cast        0\n",
       "crew        0\n",
       "dtype: int64"
      ]
     },
     "execution_count": 11,
     "metadata": {},
     "output_type": "execute_result"
    }
   ],
   "source": [
    "movies.isnull().sum()"
   ]
  },
  {
   "cell_type": "code",
   "execution_count": 12,
   "id": "7aabbdac",
   "metadata": {
    "execution": {
     "iopub.execute_input": "2023-08-03T01:50:51.612231Z",
     "iopub.status.busy": "2023-08-03T01:50:51.611868Z",
     "iopub.status.idle": "2023-08-03T01:50:51.624427Z",
     "shell.execute_reply": "2023-08-03T01:50:51.623433Z"
    },
    "papermill": {
     "duration": 0.031062,
     "end_time": "2023-08-03T01:50:51.626817",
     "exception": false,
     "start_time": "2023-08-03T01:50:51.595755",
     "status": "completed"
    },
    "tags": []
   },
   "outputs": [],
   "source": [
    "movies.dropna(inplace=True)"
   ]
  },
  {
   "cell_type": "code",
   "execution_count": 13,
   "id": "d4d314c1",
   "metadata": {
    "execution": {
     "iopub.execute_input": "2023-08-03T01:50:51.655697Z",
     "iopub.status.busy": "2023-08-03T01:50:51.655310Z",
     "iopub.status.idle": "2023-08-03T01:50:51.752241Z",
     "shell.execute_reply": "2023-08-03T01:50:51.748460Z"
    },
    "papermill": {
     "duration": 0.113974,
     "end_time": "2023-08-03T01:50:51.754653",
     "exception": false,
     "start_time": "2023-08-03T01:50:51.640679",
     "status": "completed"
    },
    "tags": []
   },
   "outputs": [
    {
     "data": {
      "text/plain": [
       "0"
      ]
     },
     "execution_count": 13,
     "metadata": {},
     "output_type": "execute_result"
    }
   ],
   "source": [
    "movies.duplicated().sum()"
   ]
  },
  {
   "cell_type": "code",
   "execution_count": 14,
   "id": "624e8398",
   "metadata": {
    "execution": {
     "iopub.execute_input": "2023-08-03T01:50:51.785624Z",
     "iopub.status.busy": "2023-08-03T01:50:51.785187Z",
     "iopub.status.idle": "2023-08-03T01:50:51.793507Z",
     "shell.execute_reply": "2023-08-03T01:50:51.792085Z"
    },
    "papermill": {
     "duration": 0.026096,
     "end_time": "2023-08-03T01:50:51.795519",
     "exception": false,
     "start_time": "2023-08-03T01:50:51.769423",
     "status": "completed"
    },
    "tags": []
   },
   "outputs": [
    {
     "data": {
      "text/plain": [
       "'[{\"id\": 28, \"name\": \"Action\"}, {\"id\": 12, \"name\": \"Adventure\"}, {\"id\": 14, \"name\": \"Fantasy\"}, {\"id\": 878, \"name\": \"Science Fiction\"}]'"
      ]
     },
     "execution_count": 14,
     "metadata": {},
     "output_type": "execute_result"
    }
   ],
   "source": [
    "movies.iloc[0].genres"
   ]
  },
  {
   "cell_type": "code",
   "execution_count": 15,
   "id": "995125e5",
   "metadata": {
    "execution": {
     "iopub.execute_input": "2023-08-03T01:50:51.837568Z",
     "iopub.status.busy": "2023-08-03T01:50:51.837208Z",
     "iopub.status.idle": "2023-08-03T01:50:51.841286Z",
     "shell.execute_reply": "2023-08-03T01:50:51.840380Z"
    },
    "papermill": {
     "duration": 0.028368,
     "end_time": "2023-08-03T01:50:51.843096",
     "exception": false,
     "start_time": "2023-08-03T01:50:51.814728",
     "status": "completed"
    },
    "tags": []
   },
   "outputs": [],
   "source": [
    "#[{\"id\": 28, \"name\": \"Action\"}, {\"id\": 12, #\"name\": \"Adventure\"}, {\"id\": 14, \"name\": \"Fantasy\"}, {\"id\": 878, \"name\": \"Science Fiction\"}]'\n",
    "\n",
    "#we have to convert above genres as mentioned below\n",
    "\n",
    "#['Action','Adventure','Fantasy','SciFi']"
   ]
  },
  {
   "cell_type": "markdown",
   "id": "a1f5bfc2",
   "metadata": {
    "papermill": {
     "duration": 0.014579,
     "end_time": "2023-08-03T01:50:51.875050",
     "exception": false,
     "start_time": "2023-08-03T01:50:51.860471",
     "status": "completed"
    },
    "tags": []
   },
   "source": [
    "\n",
    "Convertin string type into list"
   ]
  },
  {
   "cell_type": "code",
   "execution_count": 16,
   "id": "71551fb1",
   "metadata": {
    "execution": {
     "iopub.execute_input": "2023-08-03T01:50:51.904273Z",
     "iopub.status.busy": "2023-08-03T01:50:51.903946Z",
     "iopub.status.idle": "2023-08-03T01:50:51.910943Z",
     "shell.execute_reply": "2023-08-03T01:50:51.910052Z"
    },
    "papermill": {
     "duration": 0.023781,
     "end_time": "2023-08-03T01:50:51.912749",
     "exception": false,
     "start_time": "2023-08-03T01:50:51.888968",
     "status": "completed"
    },
    "tags": []
   },
   "outputs": [
    {
     "data": {
      "text/plain": [
       "[{'id': 28, 'name': 'Action'},\n",
       " {'id': 12, 'name': 'Adventure'},\n",
       " {'id': 14, 'name': 'Fantasy'},\n",
       " {'id': 878, 'name': 'Science Fiction'}]"
      ]
     },
     "execution_count": 16,
     "metadata": {},
     "output_type": "execute_result"
    }
   ],
   "source": [
    "import ast\n",
    "ast.literal_eval('[{\"id\": 28, \"name\": \"Action\"}, {\"id\": 12, \"name\": \"Adventure\"}, {\"id\": 14, \"name\": \"Fantasy\"}, {\"id\": 878, \"name\": \"Science Fiction\"}]')"
   ]
  },
  {
   "cell_type": "code",
   "execution_count": 17,
   "id": "370620d2",
   "metadata": {
    "execution": {
     "iopub.execute_input": "2023-08-03T01:50:51.942225Z",
     "iopub.status.busy": "2023-08-03T01:50:51.941805Z",
     "iopub.status.idle": "2023-08-03T01:50:51.947006Z",
     "shell.execute_reply": "2023-08-03T01:50:51.945956Z"
    },
    "papermill": {
     "duration": 0.022287,
     "end_time": "2023-08-03T01:50:51.949023",
     "exception": false,
     "start_time": "2023-08-03T01:50:51.926736",
     "status": "completed"
    },
    "tags": []
   },
   "outputs": [],
   "source": [
    "def convert(obj):\n",
    "    L=[]\n",
    "    for i in ast.literal_eval(obj):\n",
    "        L.append(i['name'])\n",
    "    return L"
   ]
  },
  {
   "cell_type": "code",
   "execution_count": 18,
   "id": "2d9a3c4f",
   "metadata": {
    "execution": {
     "iopub.execute_input": "2023-08-03T01:50:51.978537Z",
     "iopub.status.busy": "2023-08-03T01:50:51.978179Z",
     "iopub.status.idle": "2023-08-03T01:50:52.156184Z",
     "shell.execute_reply": "2023-08-03T01:50:52.154689Z"
    },
    "papermill": {
     "duration": 0.195966,
     "end_time": "2023-08-03T01:50:52.158945",
     "exception": false,
     "start_time": "2023-08-03T01:50:51.962979",
     "status": "completed"
    },
    "tags": []
   },
   "outputs": [],
   "source": [
    "movies['genres']=movies['genres'].apply(convert)"
   ]
  },
  {
   "cell_type": "code",
   "execution_count": 19,
   "id": "4d5a1473",
   "metadata": {
    "execution": {
     "iopub.execute_input": "2023-08-03T01:50:52.188868Z",
     "iopub.status.busy": "2023-08-03T01:50:52.188512Z",
     "iopub.status.idle": "2023-08-03T01:50:52.203866Z",
     "shell.execute_reply": "2023-08-03T01:50:52.202386Z"
    },
    "papermill": {
     "duration": 0.033164,
     "end_time": "2023-08-03T01:50:52.206364",
     "exception": false,
     "start_time": "2023-08-03T01:50:52.173200",
     "status": "completed"
    },
    "tags": []
   },
   "outputs": [
    {
     "data": {
      "text/html": [
       "<div>\n",
       "<style scoped>\n",
       "    .dataframe tbody tr th:only-of-type {\n",
       "        vertical-align: middle;\n",
       "    }\n",
       "\n",
       "    .dataframe tbody tr th {\n",
       "        vertical-align: top;\n",
       "    }\n",
       "\n",
       "    .dataframe thead th {\n",
       "        text-align: right;\n",
       "    }\n",
       "</style>\n",
       "<table border=\"1\" class=\"dataframe\">\n",
       "  <thead>\n",
       "    <tr style=\"text-align: right;\">\n",
       "      <th></th>\n",
       "      <th>movie_id</th>\n",
       "      <th>title</th>\n",
       "      <th>overview</th>\n",
       "      <th>genres</th>\n",
       "      <th>keywords</th>\n",
       "      <th>cast</th>\n",
       "      <th>crew</th>\n",
       "    </tr>\n",
       "  </thead>\n",
       "  <tbody>\n",
       "    <tr>\n",
       "      <th>0</th>\n",
       "      <td>19995</td>\n",
       "      <td>Avatar</td>\n",
       "      <td>In the 22nd century, a paraplegic Marine is di...</td>\n",
       "      <td>[Action, Adventure, Fantasy, Science Fiction]</td>\n",
       "      <td>[{\"id\": 1463, \"name\": \"culture clash\"}, {\"id\":...</td>\n",
       "      <td>[{\"cast_id\": 242, \"character\": \"Jake Sully\", \"...</td>\n",
       "      <td>[{\"credit_id\": \"52fe48009251416c750aca23\", \"de...</td>\n",
       "    </tr>\n",
       "    <tr>\n",
       "      <th>1</th>\n",
       "      <td>285</td>\n",
       "      <td>Pirates of the Caribbean: At World's End</td>\n",
       "      <td>Captain Barbossa, long believed to be dead, ha...</td>\n",
       "      <td>[Adventure, Fantasy, Action]</td>\n",
       "      <td>[{\"id\": 270, \"name\": \"ocean\"}, {\"id\": 726, \"na...</td>\n",
       "      <td>[{\"cast_id\": 4, \"character\": \"Captain Jack Spa...</td>\n",
       "      <td>[{\"credit_id\": \"52fe4232c3a36847f800b579\", \"de...</td>\n",
       "    </tr>\n",
       "    <tr>\n",
       "      <th>2</th>\n",
       "      <td>206647</td>\n",
       "      <td>Spectre</td>\n",
       "      <td>A cryptic message from Bond’s past sends him o...</td>\n",
       "      <td>[Action, Adventure, Crime]</td>\n",
       "      <td>[{\"id\": 470, \"name\": \"spy\"}, {\"id\": 818, \"name...</td>\n",
       "      <td>[{\"cast_id\": 1, \"character\": \"James Bond\", \"cr...</td>\n",
       "      <td>[{\"credit_id\": \"54805967c3a36829b5002c41\", \"de...</td>\n",
       "    </tr>\n",
       "    <tr>\n",
       "      <th>3</th>\n",
       "      <td>49026</td>\n",
       "      <td>The Dark Knight Rises</td>\n",
       "      <td>Following the death of District Attorney Harve...</td>\n",
       "      <td>[Action, Crime, Drama, Thriller]</td>\n",
       "      <td>[{\"id\": 849, \"name\": \"dc comics\"}, {\"id\": 853,...</td>\n",
       "      <td>[{\"cast_id\": 2, \"character\": \"Bruce Wayne / Ba...</td>\n",
       "      <td>[{\"credit_id\": \"52fe4781c3a36847f81398c3\", \"de...</td>\n",
       "    </tr>\n",
       "    <tr>\n",
       "      <th>4</th>\n",
       "      <td>49529</td>\n",
       "      <td>John Carter</td>\n",
       "      <td>John Carter is a war-weary, former military ca...</td>\n",
       "      <td>[Action, Adventure, Science Fiction]</td>\n",
       "      <td>[{\"id\": 818, \"name\": \"based on novel\"}, {\"id\":...</td>\n",
       "      <td>[{\"cast_id\": 5, \"character\": \"John Carter\", \"c...</td>\n",
       "      <td>[{\"credit_id\": \"52fe479ac3a36847f813eaa3\", \"de...</td>\n",
       "    </tr>\n",
       "  </tbody>\n",
       "</table>\n",
       "</div>"
      ],
      "text/plain": [
       "   movie_id                                     title  \\\n",
       "0     19995                                    Avatar   \n",
       "1       285  Pirates of the Caribbean: At World's End   \n",
       "2    206647                                   Spectre   \n",
       "3     49026                     The Dark Knight Rises   \n",
       "4     49529                               John Carter   \n",
       "\n",
       "                                            overview  \\\n",
       "0  In the 22nd century, a paraplegic Marine is di...   \n",
       "1  Captain Barbossa, long believed to be dead, ha...   \n",
       "2  A cryptic message from Bond’s past sends him o...   \n",
       "3  Following the death of District Attorney Harve...   \n",
       "4  John Carter is a war-weary, former military ca...   \n",
       "\n",
       "                                          genres  \\\n",
       "0  [Action, Adventure, Fantasy, Science Fiction]   \n",
       "1                   [Adventure, Fantasy, Action]   \n",
       "2                     [Action, Adventure, Crime]   \n",
       "3               [Action, Crime, Drama, Thriller]   \n",
       "4           [Action, Adventure, Science Fiction]   \n",
       "\n",
       "                                            keywords  \\\n",
       "0  [{\"id\": 1463, \"name\": \"culture clash\"}, {\"id\":...   \n",
       "1  [{\"id\": 270, \"name\": \"ocean\"}, {\"id\": 726, \"na...   \n",
       "2  [{\"id\": 470, \"name\": \"spy\"}, {\"id\": 818, \"name...   \n",
       "3  [{\"id\": 849, \"name\": \"dc comics\"}, {\"id\": 853,...   \n",
       "4  [{\"id\": 818, \"name\": \"based on novel\"}, {\"id\":...   \n",
       "\n",
       "                                                cast  \\\n",
       "0  [{\"cast_id\": 242, \"character\": \"Jake Sully\", \"...   \n",
       "1  [{\"cast_id\": 4, \"character\": \"Captain Jack Spa...   \n",
       "2  [{\"cast_id\": 1, \"character\": \"James Bond\", \"cr...   \n",
       "3  [{\"cast_id\": 2, \"character\": \"Bruce Wayne / Ba...   \n",
       "4  [{\"cast_id\": 5, \"character\": \"John Carter\", \"c...   \n",
       "\n",
       "                                                crew  \n",
       "0  [{\"credit_id\": \"52fe48009251416c750aca23\", \"de...  \n",
       "1  [{\"credit_id\": \"52fe4232c3a36847f800b579\", \"de...  \n",
       "2  [{\"credit_id\": \"54805967c3a36829b5002c41\", \"de...  \n",
       "3  [{\"credit_id\": \"52fe4781c3a36847f81398c3\", \"de...  \n",
       "4  [{\"credit_id\": \"52fe479ac3a36847f813eaa3\", \"de...  "
      ]
     },
     "execution_count": 19,
     "metadata": {},
     "output_type": "execute_result"
    }
   ],
   "source": [
    "# here we can see that the genres is converted \n",
    "movies.head()"
   ]
  },
  {
   "cell_type": "code",
   "execution_count": 20,
   "id": "b4b548d0",
   "metadata": {
    "execution": {
     "iopub.execute_input": "2023-08-03T01:50:52.237924Z",
     "iopub.status.busy": "2023-08-03T01:50:52.237173Z",
     "iopub.status.idle": "2023-08-03T01:50:52.653573Z",
     "shell.execute_reply": "2023-08-03T01:50:52.652064Z"
    },
    "papermill": {
     "duration": 0.435081,
     "end_time": "2023-08-03T01:50:52.655849",
     "exception": false,
     "start_time": "2023-08-03T01:50:52.220768",
     "status": "completed"
    },
    "tags": []
   },
   "outputs": [],
   "source": [
    "#convertig keywords column into string and extracting the main points\n",
    "movies['keywords']=movies['keywords'].apply(convert)"
   ]
  },
  {
   "cell_type": "code",
   "execution_count": 21,
   "id": "e040ef6a",
   "metadata": {
    "execution": {
     "iopub.execute_input": "2023-08-03T01:50:52.685789Z",
     "iopub.status.busy": "2023-08-03T01:50:52.685359Z",
     "iopub.status.idle": "2023-08-03T01:50:52.700928Z",
     "shell.execute_reply": "2023-08-03T01:50:52.699603Z"
    },
    "papermill": {
     "duration": 0.033639,
     "end_time": "2023-08-03T01:50:52.703592",
     "exception": false,
     "start_time": "2023-08-03T01:50:52.669953",
     "status": "completed"
    },
    "tags": []
   },
   "outputs": [
    {
     "data": {
      "text/html": [
       "<div>\n",
       "<style scoped>\n",
       "    .dataframe tbody tr th:only-of-type {\n",
       "        vertical-align: middle;\n",
       "    }\n",
       "\n",
       "    .dataframe tbody tr th {\n",
       "        vertical-align: top;\n",
       "    }\n",
       "\n",
       "    .dataframe thead th {\n",
       "        text-align: right;\n",
       "    }\n",
       "</style>\n",
       "<table border=\"1\" class=\"dataframe\">\n",
       "  <thead>\n",
       "    <tr style=\"text-align: right;\">\n",
       "      <th></th>\n",
       "      <th>movie_id</th>\n",
       "      <th>title</th>\n",
       "      <th>overview</th>\n",
       "      <th>genres</th>\n",
       "      <th>keywords</th>\n",
       "      <th>cast</th>\n",
       "      <th>crew</th>\n",
       "    </tr>\n",
       "  </thead>\n",
       "  <tbody>\n",
       "    <tr>\n",
       "      <th>0</th>\n",
       "      <td>19995</td>\n",
       "      <td>Avatar</td>\n",
       "      <td>In the 22nd century, a paraplegic Marine is di...</td>\n",
       "      <td>[Action, Adventure, Fantasy, Science Fiction]</td>\n",
       "      <td>[culture clash, future, space war, space colon...</td>\n",
       "      <td>[{\"cast_id\": 242, \"character\": \"Jake Sully\", \"...</td>\n",
       "      <td>[{\"credit_id\": \"52fe48009251416c750aca23\", \"de...</td>\n",
       "    </tr>\n",
       "    <tr>\n",
       "      <th>1</th>\n",
       "      <td>285</td>\n",
       "      <td>Pirates of the Caribbean: At World's End</td>\n",
       "      <td>Captain Barbossa, long believed to be dead, ha...</td>\n",
       "      <td>[Adventure, Fantasy, Action]</td>\n",
       "      <td>[ocean, drug abuse, exotic island, east india ...</td>\n",
       "      <td>[{\"cast_id\": 4, \"character\": \"Captain Jack Spa...</td>\n",
       "      <td>[{\"credit_id\": \"52fe4232c3a36847f800b579\", \"de...</td>\n",
       "    </tr>\n",
       "    <tr>\n",
       "      <th>2</th>\n",
       "      <td>206647</td>\n",
       "      <td>Spectre</td>\n",
       "      <td>A cryptic message from Bond’s past sends him o...</td>\n",
       "      <td>[Action, Adventure, Crime]</td>\n",
       "      <td>[spy, based on novel, secret agent, sequel, mi...</td>\n",
       "      <td>[{\"cast_id\": 1, \"character\": \"James Bond\", \"cr...</td>\n",
       "      <td>[{\"credit_id\": \"54805967c3a36829b5002c41\", \"de...</td>\n",
       "    </tr>\n",
       "    <tr>\n",
       "      <th>3</th>\n",
       "      <td>49026</td>\n",
       "      <td>The Dark Knight Rises</td>\n",
       "      <td>Following the death of District Attorney Harve...</td>\n",
       "      <td>[Action, Crime, Drama, Thriller]</td>\n",
       "      <td>[dc comics, crime fighter, terrorist, secret i...</td>\n",
       "      <td>[{\"cast_id\": 2, \"character\": \"Bruce Wayne / Ba...</td>\n",
       "      <td>[{\"credit_id\": \"52fe4781c3a36847f81398c3\", \"de...</td>\n",
       "    </tr>\n",
       "    <tr>\n",
       "      <th>4</th>\n",
       "      <td>49529</td>\n",
       "      <td>John Carter</td>\n",
       "      <td>John Carter is a war-weary, former military ca...</td>\n",
       "      <td>[Action, Adventure, Science Fiction]</td>\n",
       "      <td>[based on novel, mars, medallion, space travel...</td>\n",
       "      <td>[{\"cast_id\": 5, \"character\": \"John Carter\", \"c...</td>\n",
       "      <td>[{\"credit_id\": \"52fe479ac3a36847f813eaa3\", \"de...</td>\n",
       "    </tr>\n",
       "  </tbody>\n",
       "</table>\n",
       "</div>"
      ],
      "text/plain": [
       "   movie_id                                     title  \\\n",
       "0     19995                                    Avatar   \n",
       "1       285  Pirates of the Caribbean: At World's End   \n",
       "2    206647                                   Spectre   \n",
       "3     49026                     The Dark Knight Rises   \n",
       "4     49529                               John Carter   \n",
       "\n",
       "                                            overview  \\\n",
       "0  In the 22nd century, a paraplegic Marine is di...   \n",
       "1  Captain Barbossa, long believed to be dead, ha...   \n",
       "2  A cryptic message from Bond’s past sends him o...   \n",
       "3  Following the death of District Attorney Harve...   \n",
       "4  John Carter is a war-weary, former military ca...   \n",
       "\n",
       "                                          genres  \\\n",
       "0  [Action, Adventure, Fantasy, Science Fiction]   \n",
       "1                   [Adventure, Fantasy, Action]   \n",
       "2                     [Action, Adventure, Crime]   \n",
       "3               [Action, Crime, Drama, Thriller]   \n",
       "4           [Action, Adventure, Science Fiction]   \n",
       "\n",
       "                                            keywords  \\\n",
       "0  [culture clash, future, space war, space colon...   \n",
       "1  [ocean, drug abuse, exotic island, east india ...   \n",
       "2  [spy, based on novel, secret agent, sequel, mi...   \n",
       "3  [dc comics, crime fighter, terrorist, secret i...   \n",
       "4  [based on novel, mars, medallion, space travel...   \n",
       "\n",
       "                                                cast  \\\n",
       "0  [{\"cast_id\": 242, \"character\": \"Jake Sully\", \"...   \n",
       "1  [{\"cast_id\": 4, \"character\": \"Captain Jack Spa...   \n",
       "2  [{\"cast_id\": 1, \"character\": \"James Bond\", \"cr...   \n",
       "3  [{\"cast_id\": 2, \"character\": \"Bruce Wayne / Ba...   \n",
       "4  [{\"cast_id\": 5, \"character\": \"John Carter\", \"c...   \n",
       "\n",
       "                                                crew  \n",
       "0  [{\"credit_id\": \"52fe48009251416c750aca23\", \"de...  \n",
       "1  [{\"credit_id\": \"52fe4232c3a36847f800b579\", \"de...  \n",
       "2  [{\"credit_id\": \"54805967c3a36829b5002c41\", \"de...  \n",
       "3  [{\"credit_id\": \"52fe4781c3a36847f81398c3\", \"de...  \n",
       "4  [{\"credit_id\": \"52fe479ac3a36847f813eaa3\", \"de...  "
      ]
     },
     "execution_count": 21,
     "metadata": {},
     "output_type": "execute_result"
    }
   ],
   "source": [
    "movies.head()"
   ]
  },
  {
   "cell_type": "code",
   "execution_count": 22,
   "id": "fc56cf26",
   "metadata": {
    "execution": {
     "iopub.execute_input": "2023-08-03T01:50:52.734842Z",
     "iopub.status.busy": "2023-08-03T01:50:52.734471Z",
     "iopub.status.idle": "2023-08-03T01:50:52.739593Z",
     "shell.execute_reply": "2023-08-03T01:50:52.738657Z"
    },
    "papermill": {
     "duration": 0.022932,
     "end_time": "2023-08-03T01:50:52.741436",
     "exception": false,
     "start_time": "2023-08-03T01:50:52.718504",
     "status": "completed"
    },
    "tags": []
   },
   "outputs": [],
   "source": [
    "# Taking First 3 main cast of the movie\n",
    "def convert3(obj):\n",
    "    L=[]\n",
    "    counter=0\n",
    "    for i in ast.literal_eval(obj):\n",
    "        if counter !=3:\n",
    "            L.append(i['name'])\n",
    "        else:\n",
    "            break\n",
    "        \n",
    "    return L"
   ]
  },
  {
   "cell_type": "code",
   "execution_count": 23,
   "id": "79410e47",
   "metadata": {
    "execution": {
     "iopub.execute_input": "2023-08-03T01:50:52.774180Z",
     "iopub.status.busy": "2023-08-03T01:50:52.773824Z",
     "iopub.status.idle": "2023-08-03T01:50:56.017192Z",
     "shell.execute_reply": "2023-08-03T01:50:56.015646Z"
    },
    "papermill": {
     "duration": 3.262038,
     "end_time": "2023-08-03T01:50:56.019721",
     "exception": false,
     "start_time": "2023-08-03T01:50:52.757683",
     "status": "completed"
    },
    "tags": []
   },
   "outputs": [],
   "source": [
    "movies['cast']=movies['cast'].apply(convert)"
   ]
  },
  {
   "cell_type": "code",
   "execution_count": 24,
   "id": "1fff9d60",
   "metadata": {
    "execution": {
     "iopub.execute_input": "2023-08-03T01:50:56.050685Z",
     "iopub.status.busy": "2023-08-03T01:50:56.050287Z",
     "iopub.status.idle": "2023-08-03T01:50:56.072027Z",
     "shell.execute_reply": "2023-08-03T01:50:56.070592Z"
    },
    "papermill": {
     "duration": 0.040188,
     "end_time": "2023-08-03T01:50:56.074479",
     "exception": false,
     "start_time": "2023-08-03T01:50:56.034291",
     "status": "completed"
    },
    "tags": []
   },
   "outputs": [
    {
     "data": {
      "text/html": [
       "<div>\n",
       "<style scoped>\n",
       "    .dataframe tbody tr th:only-of-type {\n",
       "        vertical-align: middle;\n",
       "    }\n",
       "\n",
       "    .dataframe tbody tr th {\n",
       "        vertical-align: top;\n",
       "    }\n",
       "\n",
       "    .dataframe thead th {\n",
       "        text-align: right;\n",
       "    }\n",
       "</style>\n",
       "<table border=\"1\" class=\"dataframe\">\n",
       "  <thead>\n",
       "    <tr style=\"text-align: right;\">\n",
       "      <th></th>\n",
       "      <th>movie_id</th>\n",
       "      <th>title</th>\n",
       "      <th>overview</th>\n",
       "      <th>genres</th>\n",
       "      <th>keywords</th>\n",
       "      <th>cast</th>\n",
       "      <th>crew</th>\n",
       "    </tr>\n",
       "  </thead>\n",
       "  <tbody>\n",
       "    <tr>\n",
       "      <th>0</th>\n",
       "      <td>19995</td>\n",
       "      <td>Avatar</td>\n",
       "      <td>In the 22nd century, a paraplegic Marine is di...</td>\n",
       "      <td>[Action, Adventure, Fantasy, Science Fiction]</td>\n",
       "      <td>[culture clash, future, space war, space colon...</td>\n",
       "      <td>[Sam Worthington, Zoe Saldana, Sigourney Weave...</td>\n",
       "      <td>[{\"credit_id\": \"52fe48009251416c750aca23\", \"de...</td>\n",
       "    </tr>\n",
       "    <tr>\n",
       "      <th>1</th>\n",
       "      <td>285</td>\n",
       "      <td>Pirates of the Caribbean: At World's End</td>\n",
       "      <td>Captain Barbossa, long believed to be dead, ha...</td>\n",
       "      <td>[Adventure, Fantasy, Action]</td>\n",
       "      <td>[ocean, drug abuse, exotic island, east india ...</td>\n",
       "      <td>[Johnny Depp, Orlando Bloom, Keira Knightley, ...</td>\n",
       "      <td>[{\"credit_id\": \"52fe4232c3a36847f800b579\", \"de...</td>\n",
       "    </tr>\n",
       "    <tr>\n",
       "      <th>2</th>\n",
       "      <td>206647</td>\n",
       "      <td>Spectre</td>\n",
       "      <td>A cryptic message from Bond’s past sends him o...</td>\n",
       "      <td>[Action, Adventure, Crime]</td>\n",
       "      <td>[spy, based on novel, secret agent, sequel, mi...</td>\n",
       "      <td>[Daniel Craig, Christoph Waltz, Léa Seydoux, R...</td>\n",
       "      <td>[{\"credit_id\": \"54805967c3a36829b5002c41\", \"de...</td>\n",
       "    </tr>\n",
       "    <tr>\n",
       "      <th>3</th>\n",
       "      <td>49026</td>\n",
       "      <td>The Dark Knight Rises</td>\n",
       "      <td>Following the death of District Attorney Harve...</td>\n",
       "      <td>[Action, Crime, Drama, Thriller]</td>\n",
       "      <td>[dc comics, crime fighter, terrorist, secret i...</td>\n",
       "      <td>[Christian Bale, Michael Caine, Gary Oldman, A...</td>\n",
       "      <td>[{\"credit_id\": \"52fe4781c3a36847f81398c3\", \"de...</td>\n",
       "    </tr>\n",
       "    <tr>\n",
       "      <th>4</th>\n",
       "      <td>49529</td>\n",
       "      <td>John Carter</td>\n",
       "      <td>John Carter is a war-weary, former military ca...</td>\n",
       "      <td>[Action, Adventure, Science Fiction]</td>\n",
       "      <td>[based on novel, mars, medallion, space travel...</td>\n",
       "      <td>[Taylor Kitsch, Lynn Collins, Samantha Morton,...</td>\n",
       "      <td>[{\"credit_id\": \"52fe479ac3a36847f813eaa3\", \"de...</td>\n",
       "    </tr>\n",
       "  </tbody>\n",
       "</table>\n",
       "</div>"
      ],
      "text/plain": [
       "   movie_id                                     title  \\\n",
       "0     19995                                    Avatar   \n",
       "1       285  Pirates of the Caribbean: At World's End   \n",
       "2    206647                                   Spectre   \n",
       "3     49026                     The Dark Knight Rises   \n",
       "4     49529                               John Carter   \n",
       "\n",
       "                                            overview  \\\n",
       "0  In the 22nd century, a paraplegic Marine is di...   \n",
       "1  Captain Barbossa, long believed to be dead, ha...   \n",
       "2  A cryptic message from Bond’s past sends him o...   \n",
       "3  Following the death of District Attorney Harve...   \n",
       "4  John Carter is a war-weary, former military ca...   \n",
       "\n",
       "                                          genres  \\\n",
       "0  [Action, Adventure, Fantasy, Science Fiction]   \n",
       "1                   [Adventure, Fantasy, Action]   \n",
       "2                     [Action, Adventure, Crime]   \n",
       "3               [Action, Crime, Drama, Thriller]   \n",
       "4           [Action, Adventure, Science Fiction]   \n",
       "\n",
       "                                            keywords  \\\n",
       "0  [culture clash, future, space war, space colon...   \n",
       "1  [ocean, drug abuse, exotic island, east india ...   \n",
       "2  [spy, based on novel, secret agent, sequel, mi...   \n",
       "3  [dc comics, crime fighter, terrorist, secret i...   \n",
       "4  [based on novel, mars, medallion, space travel...   \n",
       "\n",
       "                                                cast  \\\n",
       "0  [Sam Worthington, Zoe Saldana, Sigourney Weave...   \n",
       "1  [Johnny Depp, Orlando Bloom, Keira Knightley, ...   \n",
       "2  [Daniel Craig, Christoph Waltz, Léa Seydoux, R...   \n",
       "3  [Christian Bale, Michael Caine, Gary Oldman, A...   \n",
       "4  [Taylor Kitsch, Lynn Collins, Samantha Morton,...   \n",
       "\n",
       "                                                crew  \n",
       "0  [{\"credit_id\": \"52fe48009251416c750aca23\", \"de...  \n",
       "1  [{\"credit_id\": \"52fe4232c3a36847f800b579\", \"de...  \n",
       "2  [{\"credit_id\": \"54805967c3a36829b5002c41\", \"de...  \n",
       "3  [{\"credit_id\": \"52fe4781c3a36847f81398c3\", \"de...  \n",
       "4  [{\"credit_id\": \"52fe479ac3a36847f813eaa3\", \"de...  "
      ]
     },
     "execution_count": 24,
     "metadata": {},
     "output_type": "execute_result"
    }
   ],
   "source": [
    "movies.head()"
   ]
  },
  {
   "cell_type": "markdown",
   "id": "dd9b6c7b",
   "metadata": {
    "papermill": {
     "duration": 0.014241,
     "end_time": "2023-08-03T01:50:56.103592",
     "exception": false,
     "start_time": "2023-08-03T01:50:56.089351",
     "status": "completed"
    },
    "tags": []
   },
   "source": [
    "EXTRACTING THE NAME OF DIRECTOR"
   ]
  },
  {
   "cell_type": "code",
   "execution_count": 25,
   "id": "8842b7d5",
   "metadata": {
    "execution": {
     "iopub.execute_input": "2023-08-03T01:50:56.136133Z",
     "iopub.status.busy": "2023-08-03T01:50:56.135755Z",
     "iopub.status.idle": "2023-08-03T01:50:56.141354Z",
     "shell.execute_reply": "2023-08-03T01:50:56.139909Z"
    },
    "papermill": {
     "duration": 0.02487,
     "end_time": "2023-08-03T01:50:56.143770",
     "exception": false,
     "start_time": "2023-08-03T01:50:56.118900",
     "status": "completed"
    },
    "tags": []
   },
   "outputs": [],
   "source": [
    "def fetch_director(obj):\n",
    "    L=[]\n",
    "    for i in ast.literal_eval(obj):\n",
    "        if i['job']== 'Director':\n",
    "            L.append(i['name'])\n",
    "            break\n",
    "    return L"
   ]
  },
  {
   "cell_type": "code",
   "execution_count": 26,
   "id": "fd6d87e2",
   "metadata": {
    "execution": {
     "iopub.execute_input": "2023-08-03T01:50:56.175239Z",
     "iopub.status.busy": "2023-08-03T01:50:56.174892Z",
     "iopub.status.idle": "2023-08-03T01:50:59.895294Z",
     "shell.execute_reply": "2023-08-03T01:50:59.894021Z"
    },
    "papermill": {
     "duration": 3.738828,
     "end_time": "2023-08-03T01:50:59.897632",
     "exception": false,
     "start_time": "2023-08-03T01:50:56.158804",
     "status": "completed"
    },
    "tags": []
   },
   "outputs": [],
   "source": [
    "movies['crew']=movies['crew'].apply(fetch_director)"
   ]
  },
  {
   "cell_type": "code",
   "execution_count": 27,
   "id": "cb9421d3",
   "metadata": {
    "execution": {
     "iopub.execute_input": "2023-08-03T01:50:59.928762Z",
     "iopub.status.busy": "2023-08-03T01:50:59.928416Z",
     "iopub.status.idle": "2023-08-03T01:50:59.937960Z",
     "shell.execute_reply": "2023-08-03T01:50:59.935952Z"
    },
    "papermill": {
     "duration": 0.027265,
     "end_time": "2023-08-03T01:50:59.939925",
     "exception": false,
     "start_time": "2023-08-03T01:50:59.912660",
     "status": "completed"
    },
    "tags": []
   },
   "outputs": [
    {
     "data": {
      "text/plain": [
       "0           [James Cameron]\n",
       "1          [Gore Verbinski]\n",
       "2              [Sam Mendes]\n",
       "3       [Christopher Nolan]\n",
       "4          [Andrew Stanton]\n",
       "               ...         \n",
       "4804     [Robert Rodriguez]\n",
       "4805         [Edward Burns]\n",
       "4806          [Scott Smith]\n",
       "4807          [Daniel Hsia]\n",
       "4808     [Brian Herzlinger]\n",
       "Name: crew, Length: 4806, dtype: object"
      ]
     },
     "execution_count": 27,
     "metadata": {},
     "output_type": "execute_result"
    }
   ],
   "source": [
    "movies['crew']"
   ]
  },
  {
   "cell_type": "code",
   "execution_count": 28,
   "id": "48404612",
   "metadata": {
    "execution": {
     "iopub.execute_input": "2023-08-03T01:50:59.970970Z",
     "iopub.status.busy": "2023-08-03T01:50:59.970591Z",
     "iopub.status.idle": "2023-08-03T01:50:59.989352Z",
     "shell.execute_reply": "2023-08-03T01:50:59.988469Z"
    },
    "papermill": {
     "duration": 0.036781,
     "end_time": "2023-08-03T01:50:59.991190",
     "exception": false,
     "start_time": "2023-08-03T01:50:59.954409",
     "status": "completed"
    },
    "tags": []
   },
   "outputs": [
    {
     "data": {
      "text/html": [
       "<div>\n",
       "<style scoped>\n",
       "    .dataframe tbody tr th:only-of-type {\n",
       "        vertical-align: middle;\n",
       "    }\n",
       "\n",
       "    .dataframe tbody tr th {\n",
       "        vertical-align: top;\n",
       "    }\n",
       "\n",
       "    .dataframe thead th {\n",
       "        text-align: right;\n",
       "    }\n",
       "</style>\n",
       "<table border=\"1\" class=\"dataframe\">\n",
       "  <thead>\n",
       "    <tr style=\"text-align: right;\">\n",
       "      <th></th>\n",
       "      <th>movie_id</th>\n",
       "      <th>title</th>\n",
       "      <th>overview</th>\n",
       "      <th>genres</th>\n",
       "      <th>keywords</th>\n",
       "      <th>cast</th>\n",
       "      <th>crew</th>\n",
       "    </tr>\n",
       "  </thead>\n",
       "  <tbody>\n",
       "    <tr>\n",
       "      <th>0</th>\n",
       "      <td>19995</td>\n",
       "      <td>Avatar</td>\n",
       "      <td>In the 22nd century, a paraplegic Marine is di...</td>\n",
       "      <td>[Action, Adventure, Fantasy, Science Fiction]</td>\n",
       "      <td>[culture clash, future, space war, space colon...</td>\n",
       "      <td>[Sam Worthington, Zoe Saldana, Sigourney Weave...</td>\n",
       "      <td>[James Cameron]</td>\n",
       "    </tr>\n",
       "    <tr>\n",
       "      <th>1</th>\n",
       "      <td>285</td>\n",
       "      <td>Pirates of the Caribbean: At World's End</td>\n",
       "      <td>Captain Barbossa, long believed to be dead, ha...</td>\n",
       "      <td>[Adventure, Fantasy, Action]</td>\n",
       "      <td>[ocean, drug abuse, exotic island, east india ...</td>\n",
       "      <td>[Johnny Depp, Orlando Bloom, Keira Knightley, ...</td>\n",
       "      <td>[Gore Verbinski]</td>\n",
       "    </tr>\n",
       "    <tr>\n",
       "      <th>2</th>\n",
       "      <td>206647</td>\n",
       "      <td>Spectre</td>\n",
       "      <td>A cryptic message from Bond’s past sends him o...</td>\n",
       "      <td>[Action, Adventure, Crime]</td>\n",
       "      <td>[spy, based on novel, secret agent, sequel, mi...</td>\n",
       "      <td>[Daniel Craig, Christoph Waltz, Léa Seydoux, R...</td>\n",
       "      <td>[Sam Mendes]</td>\n",
       "    </tr>\n",
       "    <tr>\n",
       "      <th>3</th>\n",
       "      <td>49026</td>\n",
       "      <td>The Dark Knight Rises</td>\n",
       "      <td>Following the death of District Attorney Harve...</td>\n",
       "      <td>[Action, Crime, Drama, Thriller]</td>\n",
       "      <td>[dc comics, crime fighter, terrorist, secret i...</td>\n",
       "      <td>[Christian Bale, Michael Caine, Gary Oldman, A...</td>\n",
       "      <td>[Christopher Nolan]</td>\n",
       "    </tr>\n",
       "    <tr>\n",
       "      <th>4</th>\n",
       "      <td>49529</td>\n",
       "      <td>John Carter</td>\n",
       "      <td>John Carter is a war-weary, former military ca...</td>\n",
       "      <td>[Action, Adventure, Science Fiction]</td>\n",
       "      <td>[based on novel, mars, medallion, space travel...</td>\n",
       "      <td>[Taylor Kitsch, Lynn Collins, Samantha Morton,...</td>\n",
       "      <td>[Andrew Stanton]</td>\n",
       "    </tr>\n",
       "  </tbody>\n",
       "</table>\n",
       "</div>"
      ],
      "text/plain": [
       "   movie_id                                     title  \\\n",
       "0     19995                                    Avatar   \n",
       "1       285  Pirates of the Caribbean: At World's End   \n",
       "2    206647                                   Spectre   \n",
       "3     49026                     The Dark Knight Rises   \n",
       "4     49529                               John Carter   \n",
       "\n",
       "                                            overview  \\\n",
       "0  In the 22nd century, a paraplegic Marine is di...   \n",
       "1  Captain Barbossa, long believed to be dead, ha...   \n",
       "2  A cryptic message from Bond’s past sends him o...   \n",
       "3  Following the death of District Attorney Harve...   \n",
       "4  John Carter is a war-weary, former military ca...   \n",
       "\n",
       "                                          genres  \\\n",
       "0  [Action, Adventure, Fantasy, Science Fiction]   \n",
       "1                   [Adventure, Fantasy, Action]   \n",
       "2                     [Action, Adventure, Crime]   \n",
       "3               [Action, Crime, Drama, Thriller]   \n",
       "4           [Action, Adventure, Science Fiction]   \n",
       "\n",
       "                                            keywords  \\\n",
       "0  [culture clash, future, space war, space colon...   \n",
       "1  [ocean, drug abuse, exotic island, east india ...   \n",
       "2  [spy, based on novel, secret agent, sequel, mi...   \n",
       "3  [dc comics, crime fighter, terrorist, secret i...   \n",
       "4  [based on novel, mars, medallion, space travel...   \n",
       "\n",
       "                                                cast                 crew  \n",
       "0  [Sam Worthington, Zoe Saldana, Sigourney Weave...      [James Cameron]  \n",
       "1  [Johnny Depp, Orlando Bloom, Keira Knightley, ...     [Gore Verbinski]  \n",
       "2  [Daniel Craig, Christoph Waltz, Léa Seydoux, R...         [Sam Mendes]  \n",
       "3  [Christian Bale, Michael Caine, Gary Oldman, A...  [Christopher Nolan]  \n",
       "4  [Taylor Kitsch, Lynn Collins, Samantha Morton,...     [Andrew Stanton]  "
      ]
     },
     "execution_count": 28,
     "metadata": {},
     "output_type": "execute_result"
    }
   ],
   "source": [
    "movies.head()"
   ]
  },
  {
   "cell_type": "code",
   "execution_count": 29,
   "id": "c1815fa0",
   "metadata": {
    "execution": {
     "iopub.execute_input": "2023-08-03T01:51:00.023123Z",
     "iopub.status.busy": "2023-08-03T01:51:00.022598Z",
     "iopub.status.idle": "2023-08-03T01:51:00.048252Z",
     "shell.execute_reply": "2023-08-03T01:51:00.046920Z"
    },
    "papermill": {
     "duration": 0.044293,
     "end_time": "2023-08-03T01:51:00.050454",
     "exception": false,
     "start_time": "2023-08-03T01:51:00.006161",
     "status": "completed"
    },
    "tags": []
   },
   "outputs": [],
   "source": [
    "#overview is of string type converting it into string\n",
    "\n",
    "movies['overview']=movies['overview'].apply(lambda x:x.split())"
   ]
  },
  {
   "cell_type": "code",
   "execution_count": 30,
   "id": "6ebe7694",
   "metadata": {
    "execution": {
     "iopub.execute_input": "2023-08-03T01:51:00.083932Z",
     "iopub.status.busy": "2023-08-03T01:51:00.083567Z",
     "iopub.status.idle": "2023-08-03T01:51:00.106698Z",
     "shell.execute_reply": "2023-08-03T01:51:00.105381Z"
    },
    "papermill": {
     "duration": 0.041542,
     "end_time": "2023-08-03T01:51:00.108569",
     "exception": false,
     "start_time": "2023-08-03T01:51:00.067027",
     "status": "completed"
    },
    "tags": []
   },
   "outputs": [
    {
     "data": {
      "text/html": [
       "<div>\n",
       "<style scoped>\n",
       "    .dataframe tbody tr th:only-of-type {\n",
       "        vertical-align: middle;\n",
       "    }\n",
       "\n",
       "    .dataframe tbody tr th {\n",
       "        vertical-align: top;\n",
       "    }\n",
       "\n",
       "    .dataframe thead th {\n",
       "        text-align: right;\n",
       "    }\n",
       "</style>\n",
       "<table border=\"1\" class=\"dataframe\">\n",
       "  <thead>\n",
       "    <tr style=\"text-align: right;\">\n",
       "      <th></th>\n",
       "      <th>movie_id</th>\n",
       "      <th>title</th>\n",
       "      <th>overview</th>\n",
       "      <th>genres</th>\n",
       "      <th>keywords</th>\n",
       "      <th>cast</th>\n",
       "      <th>crew</th>\n",
       "    </tr>\n",
       "  </thead>\n",
       "  <tbody>\n",
       "    <tr>\n",
       "      <th>0</th>\n",
       "      <td>19995</td>\n",
       "      <td>Avatar</td>\n",
       "      <td>[In, the, 22nd, century,, a, paraplegic, Marin...</td>\n",
       "      <td>[Action, Adventure, Fantasy, Science Fiction]</td>\n",
       "      <td>[culture clash, future, space war, space colon...</td>\n",
       "      <td>[Sam Worthington, Zoe Saldana, Sigourney Weave...</td>\n",
       "      <td>[James Cameron]</td>\n",
       "    </tr>\n",
       "    <tr>\n",
       "      <th>1</th>\n",
       "      <td>285</td>\n",
       "      <td>Pirates of the Caribbean: At World's End</td>\n",
       "      <td>[Captain, Barbossa,, long, believed, to, be, d...</td>\n",
       "      <td>[Adventure, Fantasy, Action]</td>\n",
       "      <td>[ocean, drug abuse, exotic island, east india ...</td>\n",
       "      <td>[Johnny Depp, Orlando Bloom, Keira Knightley, ...</td>\n",
       "      <td>[Gore Verbinski]</td>\n",
       "    </tr>\n",
       "    <tr>\n",
       "      <th>2</th>\n",
       "      <td>206647</td>\n",
       "      <td>Spectre</td>\n",
       "      <td>[A, cryptic, message, from, Bond’s, past, send...</td>\n",
       "      <td>[Action, Adventure, Crime]</td>\n",
       "      <td>[spy, based on novel, secret agent, sequel, mi...</td>\n",
       "      <td>[Daniel Craig, Christoph Waltz, Léa Seydoux, R...</td>\n",
       "      <td>[Sam Mendes]</td>\n",
       "    </tr>\n",
       "    <tr>\n",
       "      <th>3</th>\n",
       "      <td>49026</td>\n",
       "      <td>The Dark Knight Rises</td>\n",
       "      <td>[Following, the, death, of, District, Attorney...</td>\n",
       "      <td>[Action, Crime, Drama, Thriller]</td>\n",
       "      <td>[dc comics, crime fighter, terrorist, secret i...</td>\n",
       "      <td>[Christian Bale, Michael Caine, Gary Oldman, A...</td>\n",
       "      <td>[Christopher Nolan]</td>\n",
       "    </tr>\n",
       "    <tr>\n",
       "      <th>4</th>\n",
       "      <td>49529</td>\n",
       "      <td>John Carter</td>\n",
       "      <td>[John, Carter, is, a, war-weary,, former, mili...</td>\n",
       "      <td>[Action, Adventure, Science Fiction]</td>\n",
       "      <td>[based on novel, mars, medallion, space travel...</td>\n",
       "      <td>[Taylor Kitsch, Lynn Collins, Samantha Morton,...</td>\n",
       "      <td>[Andrew Stanton]</td>\n",
       "    </tr>\n",
       "  </tbody>\n",
       "</table>\n",
       "</div>"
      ],
      "text/plain": [
       "   movie_id                                     title  \\\n",
       "0     19995                                    Avatar   \n",
       "1       285  Pirates of the Caribbean: At World's End   \n",
       "2    206647                                   Spectre   \n",
       "3     49026                     The Dark Knight Rises   \n",
       "4     49529                               John Carter   \n",
       "\n",
       "                                            overview  \\\n",
       "0  [In, the, 22nd, century,, a, paraplegic, Marin...   \n",
       "1  [Captain, Barbossa,, long, believed, to, be, d...   \n",
       "2  [A, cryptic, message, from, Bond’s, past, send...   \n",
       "3  [Following, the, death, of, District, Attorney...   \n",
       "4  [John, Carter, is, a, war-weary,, former, mili...   \n",
       "\n",
       "                                          genres  \\\n",
       "0  [Action, Adventure, Fantasy, Science Fiction]   \n",
       "1                   [Adventure, Fantasy, Action]   \n",
       "2                     [Action, Adventure, Crime]   \n",
       "3               [Action, Crime, Drama, Thriller]   \n",
       "4           [Action, Adventure, Science Fiction]   \n",
       "\n",
       "                                            keywords  \\\n",
       "0  [culture clash, future, space war, space colon...   \n",
       "1  [ocean, drug abuse, exotic island, east india ...   \n",
       "2  [spy, based on novel, secret agent, sequel, mi...   \n",
       "3  [dc comics, crime fighter, terrorist, secret i...   \n",
       "4  [based on novel, mars, medallion, space travel...   \n",
       "\n",
       "                                                cast                 crew  \n",
       "0  [Sam Worthington, Zoe Saldana, Sigourney Weave...      [James Cameron]  \n",
       "1  [Johnny Depp, Orlando Bloom, Keira Knightley, ...     [Gore Verbinski]  \n",
       "2  [Daniel Craig, Christoph Waltz, Léa Seydoux, R...         [Sam Mendes]  \n",
       "3  [Christian Bale, Michael Caine, Gary Oldman, A...  [Christopher Nolan]  \n",
       "4  [Taylor Kitsch, Lynn Collins, Samantha Morton,...     [Andrew Stanton]  "
      ]
     },
     "execution_count": 30,
     "metadata": {},
     "output_type": "execute_result"
    }
   ],
   "source": [
    "movies.head()"
   ]
  },
  {
   "cell_type": "markdown",
   "id": "8900d324",
   "metadata": {
    "papermill": {
     "duration": 0.015321,
     "end_time": "2023-08-03T01:51:00.139230",
     "exception": false,
     "start_time": "2023-08-03T01:51:00.123909",
     "status": "completed"
    },
    "tags": []
   },
   "source": [
    "Removing space between two words so that our reccommender will not confuse between two same words of different meaning"
   ]
  },
  {
   "cell_type": "code",
   "execution_count": 31,
   "id": "435ff27c",
   "metadata": {
    "execution": {
     "iopub.execute_input": "2023-08-03T01:51:00.172003Z",
     "iopub.status.busy": "2023-08-03T01:51:00.171359Z",
     "iopub.status.idle": "2023-08-03T01:51:00.233113Z",
     "shell.execute_reply": "2023-08-03T01:51:00.232062Z"
    },
    "papermill": {
     "duration": 0.080259,
     "end_time": "2023-08-03T01:51:00.235292",
     "exception": false,
     "start_time": "2023-08-03T01:51:00.155033",
     "status": "completed"
    },
    "tags": []
   },
   "outputs": [],
   "source": [
    "movies['genres']=movies['genres'].apply(lambda x:[i.replace(\" \",\"\")for i in x])\n",
    "movies['keywords']=movies['keywords'].apply(lambda x:[i.replace(\" \",\"\")for i in x])\n",
    "movies['cast']=movies['cast'].apply(lambda x:[i.replace(\" \",\"\")for i in x])\n",
    "movies['crew']=movies['crew'].apply(lambda x:[i.replace(\" \",\"\")for i in x])"
   ]
  },
  {
   "cell_type": "code",
   "execution_count": 32,
   "id": "475fa4d9",
   "metadata": {
    "execution": {
     "iopub.execute_input": "2023-08-03T01:51:00.267227Z",
     "iopub.status.busy": "2023-08-03T01:51:00.266874Z",
     "iopub.status.idle": "2023-08-03T01:51:00.298020Z",
     "shell.execute_reply": "2023-08-03T01:51:00.296869Z"
    },
    "papermill": {
     "duration": 0.049535,
     "end_time": "2023-08-03T01:51:00.300026",
     "exception": false,
     "start_time": "2023-08-03T01:51:00.250491",
     "status": "completed"
    },
    "tags": []
   },
   "outputs": [
    {
     "data": {
      "text/html": [
       "<div>\n",
       "<style scoped>\n",
       "    .dataframe tbody tr th:only-of-type {\n",
       "        vertical-align: middle;\n",
       "    }\n",
       "\n",
       "    .dataframe tbody tr th {\n",
       "        vertical-align: top;\n",
       "    }\n",
       "\n",
       "    .dataframe thead th {\n",
       "        text-align: right;\n",
       "    }\n",
       "</style>\n",
       "<table border=\"1\" class=\"dataframe\">\n",
       "  <thead>\n",
       "    <tr style=\"text-align: right;\">\n",
       "      <th></th>\n",
       "      <th>movie_id</th>\n",
       "      <th>title</th>\n",
       "      <th>overview</th>\n",
       "      <th>genres</th>\n",
       "      <th>keywords</th>\n",
       "      <th>cast</th>\n",
       "      <th>crew</th>\n",
       "    </tr>\n",
       "  </thead>\n",
       "  <tbody>\n",
       "    <tr>\n",
       "      <th>0</th>\n",
       "      <td>19995</td>\n",
       "      <td>Avatar</td>\n",
       "      <td>[In, the, 22nd, century,, a, paraplegic, Marin...</td>\n",
       "      <td>[Action, Adventure, Fantasy, ScienceFiction]</td>\n",
       "      <td>[cultureclash, future, spacewar, spacecolony, ...</td>\n",
       "      <td>[SamWorthington, ZoeSaldana, SigourneyWeaver, ...</td>\n",
       "      <td>[JamesCameron]</td>\n",
       "    </tr>\n",
       "    <tr>\n",
       "      <th>1</th>\n",
       "      <td>285</td>\n",
       "      <td>Pirates of the Caribbean: At World's End</td>\n",
       "      <td>[Captain, Barbossa,, long, believed, to, be, d...</td>\n",
       "      <td>[Adventure, Fantasy, Action]</td>\n",
       "      <td>[ocean, drugabuse, exoticisland, eastindiatrad...</td>\n",
       "      <td>[JohnnyDepp, OrlandoBloom, KeiraKnightley, Ste...</td>\n",
       "      <td>[GoreVerbinski]</td>\n",
       "    </tr>\n",
       "    <tr>\n",
       "      <th>2</th>\n",
       "      <td>206647</td>\n",
       "      <td>Spectre</td>\n",
       "      <td>[A, cryptic, message, from, Bond’s, past, send...</td>\n",
       "      <td>[Action, Adventure, Crime]</td>\n",
       "      <td>[spy, basedonnovel, secretagent, sequel, mi6, ...</td>\n",
       "      <td>[DanielCraig, ChristophWaltz, LéaSeydoux, Ralp...</td>\n",
       "      <td>[SamMendes]</td>\n",
       "    </tr>\n",
       "    <tr>\n",
       "      <th>3</th>\n",
       "      <td>49026</td>\n",
       "      <td>The Dark Knight Rises</td>\n",
       "      <td>[Following, the, death, of, District, Attorney...</td>\n",
       "      <td>[Action, Crime, Drama, Thriller]</td>\n",
       "      <td>[dccomics, crimefighter, terrorist, secretiden...</td>\n",
       "      <td>[ChristianBale, MichaelCaine, GaryOldman, Anne...</td>\n",
       "      <td>[ChristopherNolan]</td>\n",
       "    </tr>\n",
       "    <tr>\n",
       "      <th>4</th>\n",
       "      <td>49529</td>\n",
       "      <td>John Carter</td>\n",
       "      <td>[John, Carter, is, a, war-weary,, former, mili...</td>\n",
       "      <td>[Action, Adventure, ScienceFiction]</td>\n",
       "      <td>[basedonnovel, mars, medallion, spacetravel, p...</td>\n",
       "      <td>[TaylorKitsch, LynnCollins, SamanthaMorton, Wi...</td>\n",
       "      <td>[AndrewStanton]</td>\n",
       "    </tr>\n",
       "    <tr>\n",
       "      <th>...</th>\n",
       "      <td>...</td>\n",
       "      <td>...</td>\n",
       "      <td>...</td>\n",
       "      <td>...</td>\n",
       "      <td>...</td>\n",
       "      <td>...</td>\n",
       "      <td>...</td>\n",
       "    </tr>\n",
       "    <tr>\n",
       "      <th>4804</th>\n",
       "      <td>9367</td>\n",
       "      <td>El Mariachi</td>\n",
       "      <td>[El, Mariachi, just, wants, to, play, his, gui...</td>\n",
       "      <td>[Action, Crime, Thriller]</td>\n",
       "      <td>[unitedstates–mexicobarrier, legs, arms, paper...</td>\n",
       "      <td>[CarlosGallardo, JaimedeHoyos, PeterMarquardt,...</td>\n",
       "      <td>[RobertRodriguez]</td>\n",
       "    </tr>\n",
       "    <tr>\n",
       "      <th>4805</th>\n",
       "      <td>72766</td>\n",
       "      <td>Newlyweds</td>\n",
       "      <td>[A, newlywed, couple's, honeymoon, is, upended...</td>\n",
       "      <td>[Comedy, Romance]</td>\n",
       "      <td>[]</td>\n",
       "      <td>[EdwardBurns, KerryBishé, MarshaDietlein, Cait...</td>\n",
       "      <td>[EdwardBurns]</td>\n",
       "    </tr>\n",
       "    <tr>\n",
       "      <th>4806</th>\n",
       "      <td>231617</td>\n",
       "      <td>Signed, Sealed, Delivered</td>\n",
       "      <td>[\"Signed,, Sealed,, Delivered\", introduces, a,...</td>\n",
       "      <td>[Comedy, Drama, Romance, TVMovie]</td>\n",
       "      <td>[date, loveatfirstsight, narration, investigat...</td>\n",
       "      <td>[EricMabius, KristinBooth, CrystalLowe, GeoffG...</td>\n",
       "      <td>[ScottSmith]</td>\n",
       "    </tr>\n",
       "    <tr>\n",
       "      <th>4807</th>\n",
       "      <td>126186</td>\n",
       "      <td>Shanghai Calling</td>\n",
       "      <td>[When, ambitious, New, York, attorney, Sam, is...</td>\n",
       "      <td>[]</td>\n",
       "      <td>[]</td>\n",
       "      <td>[DanielHenney, ElizaCoupe, BillPaxton, AlanRuc...</td>\n",
       "      <td>[DanielHsia]</td>\n",
       "    </tr>\n",
       "    <tr>\n",
       "      <th>4808</th>\n",
       "      <td>25975</td>\n",
       "      <td>My Date with Drew</td>\n",
       "      <td>[Ever, since, the, second, grade, when, he, fi...</td>\n",
       "      <td>[Documentary]</td>\n",
       "      <td>[obsession, camcorder, crush, dreamgirl]</td>\n",
       "      <td>[DrewBarrymore, BrianHerzlinger, CoreyFeldman,...</td>\n",
       "      <td>[BrianHerzlinger]</td>\n",
       "    </tr>\n",
       "  </tbody>\n",
       "</table>\n",
       "<p>4806 rows × 7 columns</p>\n",
       "</div>"
      ],
      "text/plain": [
       "      movie_id                                     title  \\\n",
       "0        19995                                    Avatar   \n",
       "1          285  Pirates of the Caribbean: At World's End   \n",
       "2       206647                                   Spectre   \n",
       "3        49026                     The Dark Knight Rises   \n",
       "4        49529                               John Carter   \n",
       "...        ...                                       ...   \n",
       "4804      9367                               El Mariachi   \n",
       "4805     72766                                 Newlyweds   \n",
       "4806    231617                 Signed, Sealed, Delivered   \n",
       "4807    126186                          Shanghai Calling   \n",
       "4808     25975                         My Date with Drew   \n",
       "\n",
       "                                               overview  \\\n",
       "0     [In, the, 22nd, century,, a, paraplegic, Marin...   \n",
       "1     [Captain, Barbossa,, long, believed, to, be, d...   \n",
       "2     [A, cryptic, message, from, Bond’s, past, send...   \n",
       "3     [Following, the, death, of, District, Attorney...   \n",
       "4     [John, Carter, is, a, war-weary,, former, mili...   \n",
       "...                                                 ...   \n",
       "4804  [El, Mariachi, just, wants, to, play, his, gui...   \n",
       "4805  [A, newlywed, couple's, honeymoon, is, upended...   \n",
       "4806  [\"Signed,, Sealed,, Delivered\", introduces, a,...   \n",
       "4807  [When, ambitious, New, York, attorney, Sam, is...   \n",
       "4808  [Ever, since, the, second, grade, when, he, fi...   \n",
       "\n",
       "                                            genres  \\\n",
       "0     [Action, Adventure, Fantasy, ScienceFiction]   \n",
       "1                     [Adventure, Fantasy, Action]   \n",
       "2                       [Action, Adventure, Crime]   \n",
       "3                 [Action, Crime, Drama, Thriller]   \n",
       "4              [Action, Adventure, ScienceFiction]   \n",
       "...                                            ...   \n",
       "4804                     [Action, Crime, Thriller]   \n",
       "4805                             [Comedy, Romance]   \n",
       "4806             [Comedy, Drama, Romance, TVMovie]   \n",
       "4807                                            []   \n",
       "4808                                 [Documentary]   \n",
       "\n",
       "                                               keywords  \\\n",
       "0     [cultureclash, future, spacewar, spacecolony, ...   \n",
       "1     [ocean, drugabuse, exoticisland, eastindiatrad...   \n",
       "2     [spy, basedonnovel, secretagent, sequel, mi6, ...   \n",
       "3     [dccomics, crimefighter, terrorist, secretiden...   \n",
       "4     [basedonnovel, mars, medallion, spacetravel, p...   \n",
       "...                                                 ...   \n",
       "4804  [unitedstates–mexicobarrier, legs, arms, paper...   \n",
       "4805                                                 []   \n",
       "4806  [date, loveatfirstsight, narration, investigat...   \n",
       "4807                                                 []   \n",
       "4808           [obsession, camcorder, crush, dreamgirl]   \n",
       "\n",
       "                                                   cast                crew  \n",
       "0     [SamWorthington, ZoeSaldana, SigourneyWeaver, ...      [JamesCameron]  \n",
       "1     [JohnnyDepp, OrlandoBloom, KeiraKnightley, Ste...     [GoreVerbinski]  \n",
       "2     [DanielCraig, ChristophWaltz, LéaSeydoux, Ralp...         [SamMendes]  \n",
       "3     [ChristianBale, MichaelCaine, GaryOldman, Anne...  [ChristopherNolan]  \n",
       "4     [TaylorKitsch, LynnCollins, SamanthaMorton, Wi...     [AndrewStanton]  \n",
       "...                                                 ...                 ...  \n",
       "4804  [CarlosGallardo, JaimedeHoyos, PeterMarquardt,...   [RobertRodriguez]  \n",
       "4805  [EdwardBurns, KerryBishé, MarshaDietlein, Cait...       [EdwardBurns]  \n",
       "4806  [EricMabius, KristinBooth, CrystalLowe, GeoffG...        [ScottSmith]  \n",
       "4807  [DanielHenney, ElizaCoupe, BillPaxton, AlanRuc...        [DanielHsia]  \n",
       "4808  [DrewBarrymore, BrianHerzlinger, CoreyFeldman,...   [BrianHerzlinger]  \n",
       "\n",
       "[4806 rows x 7 columns]"
      ]
     },
     "execution_count": 32,
     "metadata": {},
     "output_type": "execute_result"
    }
   ],
   "source": [
    "movies"
   ]
  },
  {
   "cell_type": "code",
   "execution_count": 33,
   "id": "bcee7823",
   "metadata": {
    "execution": {
     "iopub.execute_input": "2023-08-03T01:51:00.332439Z",
     "iopub.status.busy": "2023-08-03T01:51:00.332080Z",
     "iopub.status.idle": "2023-08-03T01:51:00.530459Z",
     "shell.execute_reply": "2023-08-03T01:51:00.528963Z"
    },
    "papermill": {
     "duration": 0.217243,
     "end_time": "2023-08-03T01:51:00.532833",
     "exception": false,
     "start_time": "2023-08-03T01:51:00.315590",
     "status": "completed"
    },
    "tags": []
   },
   "outputs": [],
   "source": [
    "movies['tags']=movies['overview']+movies['genres'] + movies['keywords'] + movies['cast'] + movies['crew']"
   ]
  },
  {
   "cell_type": "code",
   "execution_count": 34,
   "id": "7fa08a6c",
   "metadata": {
    "execution": {
     "iopub.execute_input": "2023-08-03T01:51:00.565212Z",
     "iopub.status.busy": "2023-08-03T01:51:00.564865Z",
     "iopub.status.idle": "2023-08-03T01:51:00.590558Z",
     "shell.execute_reply": "2023-08-03T01:51:00.589142Z"
    },
    "papermill": {
     "duration": 0.04423,
     "end_time": "2023-08-03T01:51:00.592519",
     "exception": false,
     "start_time": "2023-08-03T01:51:00.548289",
     "status": "completed"
    },
    "tags": []
   },
   "outputs": [
    {
     "data": {
      "text/html": [
       "<div>\n",
       "<style scoped>\n",
       "    .dataframe tbody tr th:only-of-type {\n",
       "        vertical-align: middle;\n",
       "    }\n",
       "\n",
       "    .dataframe tbody tr th {\n",
       "        vertical-align: top;\n",
       "    }\n",
       "\n",
       "    .dataframe thead th {\n",
       "        text-align: right;\n",
       "    }\n",
       "</style>\n",
       "<table border=\"1\" class=\"dataframe\">\n",
       "  <thead>\n",
       "    <tr style=\"text-align: right;\">\n",
       "      <th></th>\n",
       "      <th>movie_id</th>\n",
       "      <th>title</th>\n",
       "      <th>overview</th>\n",
       "      <th>genres</th>\n",
       "      <th>keywords</th>\n",
       "      <th>cast</th>\n",
       "      <th>crew</th>\n",
       "      <th>tags</th>\n",
       "    </tr>\n",
       "  </thead>\n",
       "  <tbody>\n",
       "    <tr>\n",
       "      <th>0</th>\n",
       "      <td>19995</td>\n",
       "      <td>Avatar</td>\n",
       "      <td>[In, the, 22nd, century,, a, paraplegic, Marin...</td>\n",
       "      <td>[Action, Adventure, Fantasy, ScienceFiction]</td>\n",
       "      <td>[cultureclash, future, spacewar, spacecolony, ...</td>\n",
       "      <td>[SamWorthington, ZoeSaldana, SigourneyWeaver, ...</td>\n",
       "      <td>[JamesCameron]</td>\n",
       "      <td>[In, the, 22nd, century,, a, paraplegic, Marin...</td>\n",
       "    </tr>\n",
       "    <tr>\n",
       "      <th>1</th>\n",
       "      <td>285</td>\n",
       "      <td>Pirates of the Caribbean: At World's End</td>\n",
       "      <td>[Captain, Barbossa,, long, believed, to, be, d...</td>\n",
       "      <td>[Adventure, Fantasy, Action]</td>\n",
       "      <td>[ocean, drugabuse, exoticisland, eastindiatrad...</td>\n",
       "      <td>[JohnnyDepp, OrlandoBloom, KeiraKnightley, Ste...</td>\n",
       "      <td>[GoreVerbinski]</td>\n",
       "      <td>[Captain, Barbossa,, long, believed, to, be, d...</td>\n",
       "    </tr>\n",
       "    <tr>\n",
       "      <th>2</th>\n",
       "      <td>206647</td>\n",
       "      <td>Spectre</td>\n",
       "      <td>[A, cryptic, message, from, Bond’s, past, send...</td>\n",
       "      <td>[Action, Adventure, Crime]</td>\n",
       "      <td>[spy, basedonnovel, secretagent, sequel, mi6, ...</td>\n",
       "      <td>[DanielCraig, ChristophWaltz, LéaSeydoux, Ralp...</td>\n",
       "      <td>[SamMendes]</td>\n",
       "      <td>[A, cryptic, message, from, Bond’s, past, send...</td>\n",
       "    </tr>\n",
       "    <tr>\n",
       "      <th>3</th>\n",
       "      <td>49026</td>\n",
       "      <td>The Dark Knight Rises</td>\n",
       "      <td>[Following, the, death, of, District, Attorney...</td>\n",
       "      <td>[Action, Crime, Drama, Thriller]</td>\n",
       "      <td>[dccomics, crimefighter, terrorist, secretiden...</td>\n",
       "      <td>[ChristianBale, MichaelCaine, GaryOldman, Anne...</td>\n",
       "      <td>[ChristopherNolan]</td>\n",
       "      <td>[Following, the, death, of, District, Attorney...</td>\n",
       "    </tr>\n",
       "    <tr>\n",
       "      <th>4</th>\n",
       "      <td>49529</td>\n",
       "      <td>John Carter</td>\n",
       "      <td>[John, Carter, is, a, war-weary,, former, mili...</td>\n",
       "      <td>[Action, Adventure, ScienceFiction]</td>\n",
       "      <td>[basedonnovel, mars, medallion, spacetravel, p...</td>\n",
       "      <td>[TaylorKitsch, LynnCollins, SamanthaMorton, Wi...</td>\n",
       "      <td>[AndrewStanton]</td>\n",
       "      <td>[John, Carter, is, a, war-weary,, former, mili...</td>\n",
       "    </tr>\n",
       "  </tbody>\n",
       "</table>\n",
       "</div>"
      ],
      "text/plain": [
       "   movie_id                                     title  \\\n",
       "0     19995                                    Avatar   \n",
       "1       285  Pirates of the Caribbean: At World's End   \n",
       "2    206647                                   Spectre   \n",
       "3     49026                     The Dark Knight Rises   \n",
       "4     49529                               John Carter   \n",
       "\n",
       "                                            overview  \\\n",
       "0  [In, the, 22nd, century,, a, paraplegic, Marin...   \n",
       "1  [Captain, Barbossa,, long, believed, to, be, d...   \n",
       "2  [A, cryptic, message, from, Bond’s, past, send...   \n",
       "3  [Following, the, death, of, District, Attorney...   \n",
       "4  [John, Carter, is, a, war-weary,, former, mili...   \n",
       "\n",
       "                                         genres  \\\n",
       "0  [Action, Adventure, Fantasy, ScienceFiction]   \n",
       "1                  [Adventure, Fantasy, Action]   \n",
       "2                    [Action, Adventure, Crime]   \n",
       "3              [Action, Crime, Drama, Thriller]   \n",
       "4           [Action, Adventure, ScienceFiction]   \n",
       "\n",
       "                                            keywords  \\\n",
       "0  [cultureclash, future, spacewar, spacecolony, ...   \n",
       "1  [ocean, drugabuse, exoticisland, eastindiatrad...   \n",
       "2  [spy, basedonnovel, secretagent, sequel, mi6, ...   \n",
       "3  [dccomics, crimefighter, terrorist, secretiden...   \n",
       "4  [basedonnovel, mars, medallion, spacetravel, p...   \n",
       "\n",
       "                                                cast                crew  \\\n",
       "0  [SamWorthington, ZoeSaldana, SigourneyWeaver, ...      [JamesCameron]   \n",
       "1  [JohnnyDepp, OrlandoBloom, KeiraKnightley, Ste...     [GoreVerbinski]   \n",
       "2  [DanielCraig, ChristophWaltz, LéaSeydoux, Ralp...         [SamMendes]   \n",
       "3  [ChristianBale, MichaelCaine, GaryOldman, Anne...  [ChristopherNolan]   \n",
       "4  [TaylorKitsch, LynnCollins, SamanthaMorton, Wi...     [AndrewStanton]   \n",
       "\n",
       "                                                tags  \n",
       "0  [In, the, 22nd, century,, a, paraplegic, Marin...  \n",
       "1  [Captain, Barbossa,, long, believed, to, be, d...  \n",
       "2  [A, cryptic, message, from, Bond’s, past, send...  \n",
       "3  [Following, the, death, of, District, Attorney...  \n",
       "4  [John, Carter, is, a, war-weary,, former, mili...  "
      ]
     },
     "execution_count": 34,
     "metadata": {},
     "output_type": "execute_result"
    }
   ],
   "source": [
    "movies.head()"
   ]
  },
  {
   "cell_type": "code",
   "execution_count": 35,
   "id": "199b859d",
   "metadata": {
    "execution": {
     "iopub.execute_input": "2023-08-03T01:51:00.627029Z",
     "iopub.status.busy": "2023-08-03T01:51:00.626362Z",
     "iopub.status.idle": "2023-08-03T01:51:00.633291Z",
     "shell.execute_reply": "2023-08-03T01:51:00.632153Z"
    },
    "papermill": {
     "duration": 0.027209,
     "end_time": "2023-08-03T01:51:00.636195",
     "exception": false,
     "start_time": "2023-08-03T01:51:00.608986",
     "status": "completed"
    },
    "tags": []
   },
   "outputs": [],
   "source": [
    "new_df=movies[['movie_id','title','tags']]"
   ]
  },
  {
   "cell_type": "code",
   "execution_count": 36,
   "id": "b5e8e034",
   "metadata": {
    "execution": {
     "iopub.execute_input": "2023-08-03T01:51:00.669326Z",
     "iopub.status.busy": "2023-08-03T01:51:00.669002Z",
     "iopub.status.idle": "2023-08-03T01:51:00.686936Z",
     "shell.execute_reply": "2023-08-03T01:51:00.685944Z"
    },
    "papermill": {
     "duration": 0.037258,
     "end_time": "2023-08-03T01:51:00.689145",
     "exception": false,
     "start_time": "2023-08-03T01:51:00.651887",
     "status": "completed"
    },
    "tags": []
   },
   "outputs": [
    {
     "data": {
      "text/html": [
       "<div>\n",
       "<style scoped>\n",
       "    .dataframe tbody tr th:only-of-type {\n",
       "        vertical-align: middle;\n",
       "    }\n",
       "\n",
       "    .dataframe tbody tr th {\n",
       "        vertical-align: top;\n",
       "    }\n",
       "\n",
       "    .dataframe thead th {\n",
       "        text-align: right;\n",
       "    }\n",
       "</style>\n",
       "<table border=\"1\" class=\"dataframe\">\n",
       "  <thead>\n",
       "    <tr style=\"text-align: right;\">\n",
       "      <th></th>\n",
       "      <th>movie_id</th>\n",
       "      <th>title</th>\n",
       "      <th>tags</th>\n",
       "    </tr>\n",
       "  </thead>\n",
       "  <tbody>\n",
       "    <tr>\n",
       "      <th>0</th>\n",
       "      <td>19995</td>\n",
       "      <td>Avatar</td>\n",
       "      <td>[In, the, 22nd, century,, a, paraplegic, Marin...</td>\n",
       "    </tr>\n",
       "    <tr>\n",
       "      <th>1</th>\n",
       "      <td>285</td>\n",
       "      <td>Pirates of the Caribbean: At World's End</td>\n",
       "      <td>[Captain, Barbossa,, long, believed, to, be, d...</td>\n",
       "    </tr>\n",
       "    <tr>\n",
       "      <th>2</th>\n",
       "      <td>206647</td>\n",
       "      <td>Spectre</td>\n",
       "      <td>[A, cryptic, message, from, Bond’s, past, send...</td>\n",
       "    </tr>\n",
       "    <tr>\n",
       "      <th>3</th>\n",
       "      <td>49026</td>\n",
       "      <td>The Dark Knight Rises</td>\n",
       "      <td>[Following, the, death, of, District, Attorney...</td>\n",
       "    </tr>\n",
       "    <tr>\n",
       "      <th>4</th>\n",
       "      <td>49529</td>\n",
       "      <td>John Carter</td>\n",
       "      <td>[John, Carter, is, a, war-weary,, former, mili...</td>\n",
       "    </tr>\n",
       "    <tr>\n",
       "      <th>...</th>\n",
       "      <td>...</td>\n",
       "      <td>...</td>\n",
       "      <td>...</td>\n",
       "    </tr>\n",
       "    <tr>\n",
       "      <th>4804</th>\n",
       "      <td>9367</td>\n",
       "      <td>El Mariachi</td>\n",
       "      <td>[El, Mariachi, just, wants, to, play, his, gui...</td>\n",
       "    </tr>\n",
       "    <tr>\n",
       "      <th>4805</th>\n",
       "      <td>72766</td>\n",
       "      <td>Newlyweds</td>\n",
       "      <td>[A, newlywed, couple's, honeymoon, is, upended...</td>\n",
       "    </tr>\n",
       "    <tr>\n",
       "      <th>4806</th>\n",
       "      <td>231617</td>\n",
       "      <td>Signed, Sealed, Delivered</td>\n",
       "      <td>[\"Signed,, Sealed,, Delivered\", introduces, a,...</td>\n",
       "    </tr>\n",
       "    <tr>\n",
       "      <th>4807</th>\n",
       "      <td>126186</td>\n",
       "      <td>Shanghai Calling</td>\n",
       "      <td>[When, ambitious, New, York, attorney, Sam, is...</td>\n",
       "    </tr>\n",
       "    <tr>\n",
       "      <th>4808</th>\n",
       "      <td>25975</td>\n",
       "      <td>My Date with Drew</td>\n",
       "      <td>[Ever, since, the, second, grade, when, he, fi...</td>\n",
       "    </tr>\n",
       "  </tbody>\n",
       "</table>\n",
       "<p>4806 rows × 3 columns</p>\n",
       "</div>"
      ],
      "text/plain": [
       "      movie_id                                     title  \\\n",
       "0        19995                                    Avatar   \n",
       "1          285  Pirates of the Caribbean: At World's End   \n",
       "2       206647                                   Spectre   \n",
       "3        49026                     The Dark Knight Rises   \n",
       "4        49529                               John Carter   \n",
       "...        ...                                       ...   \n",
       "4804      9367                               El Mariachi   \n",
       "4805     72766                                 Newlyweds   \n",
       "4806    231617                 Signed, Sealed, Delivered   \n",
       "4807    126186                          Shanghai Calling   \n",
       "4808     25975                         My Date with Drew   \n",
       "\n",
       "                                                   tags  \n",
       "0     [In, the, 22nd, century,, a, paraplegic, Marin...  \n",
       "1     [Captain, Barbossa,, long, believed, to, be, d...  \n",
       "2     [A, cryptic, message, from, Bond’s, past, send...  \n",
       "3     [Following, the, death, of, District, Attorney...  \n",
       "4     [John, Carter, is, a, war-weary,, former, mili...  \n",
       "...                                                 ...  \n",
       "4804  [El, Mariachi, just, wants, to, play, his, gui...  \n",
       "4805  [A, newlywed, couple's, honeymoon, is, upended...  \n",
       "4806  [\"Signed,, Sealed,, Delivered\", introduces, a,...  \n",
       "4807  [When, ambitious, New, York, attorney, Sam, is...  \n",
       "4808  [Ever, since, the, second, grade, when, he, fi...  \n",
       "\n",
       "[4806 rows x 3 columns]"
      ]
     },
     "execution_count": 36,
     "metadata": {},
     "output_type": "execute_result"
    }
   ],
   "source": [
    "new_df"
   ]
  },
  {
   "cell_type": "code",
   "execution_count": 37,
   "id": "e30f4d2e",
   "metadata": {
    "execution": {
     "iopub.execute_input": "2023-08-03T01:51:00.723311Z",
     "iopub.status.busy": "2023-08-03T01:51:00.722694Z",
     "iopub.status.idle": "2023-08-03T01:51:00.739380Z",
     "shell.execute_reply": "2023-08-03T01:51:00.738400Z"
    },
    "papermill": {
     "duration": 0.035854,
     "end_time": "2023-08-03T01:51:00.741236",
     "exception": false,
     "start_time": "2023-08-03T01:51:00.705382",
     "status": "completed"
    },
    "tags": []
   },
   "outputs": [
    {
     "name": "stderr",
     "output_type": "stream",
     "text": [
      "/tmp/ipykernel_20/2619414966.py:2: SettingWithCopyWarning: \n",
      "A value is trying to be set on a copy of a slice from a DataFrame.\n",
      "Try using .loc[row_indexer,col_indexer] = value instead\n",
      "\n",
      "See the caveats in the documentation: https://pandas.pydata.org/pandas-docs/stable/user_guide/indexing.html#returning-a-view-versus-a-copy\n",
      "  new_df['tags']=new_df['tags'].apply(lambda x:\" \".join(x))\n"
     ]
    }
   ],
   "source": [
    "# converting tags datatype from list  into string\n",
    "new_df['tags']=new_df['tags'].apply(lambda x:\" \".join(x))"
   ]
  },
  {
   "cell_type": "code",
   "execution_count": 38,
   "id": "e8a7c8f1",
   "metadata": {
    "execution": {
     "iopub.execute_input": "2023-08-03T01:51:00.775132Z",
     "iopub.status.busy": "2023-08-03T01:51:00.774770Z",
     "iopub.status.idle": "2023-08-03T01:51:00.785345Z",
     "shell.execute_reply": "2023-08-03T01:51:00.783788Z"
    },
    "papermill": {
     "duration": 0.030389,
     "end_time": "2023-08-03T01:51:00.787773",
     "exception": false,
     "start_time": "2023-08-03T01:51:00.757384",
     "status": "completed"
    },
    "tags": []
   },
   "outputs": [
    {
     "data": {
      "text/html": [
       "<div>\n",
       "<style scoped>\n",
       "    .dataframe tbody tr th:only-of-type {\n",
       "        vertical-align: middle;\n",
       "    }\n",
       "\n",
       "    .dataframe tbody tr th {\n",
       "        vertical-align: top;\n",
       "    }\n",
       "\n",
       "    .dataframe thead th {\n",
       "        text-align: right;\n",
       "    }\n",
       "</style>\n",
       "<table border=\"1\" class=\"dataframe\">\n",
       "  <thead>\n",
       "    <tr style=\"text-align: right;\">\n",
       "      <th></th>\n",
       "      <th>movie_id</th>\n",
       "      <th>title</th>\n",
       "      <th>tags</th>\n",
       "    </tr>\n",
       "  </thead>\n",
       "  <tbody>\n",
       "    <tr>\n",
       "      <th>0</th>\n",
       "      <td>19995</td>\n",
       "      <td>Avatar</td>\n",
       "      <td>In the 22nd century, a paraplegic Marine is di...</td>\n",
       "    </tr>\n",
       "    <tr>\n",
       "      <th>1</th>\n",
       "      <td>285</td>\n",
       "      <td>Pirates of the Caribbean: At World's End</td>\n",
       "      <td>Captain Barbossa, long believed to be dead, ha...</td>\n",
       "    </tr>\n",
       "    <tr>\n",
       "      <th>2</th>\n",
       "      <td>206647</td>\n",
       "      <td>Spectre</td>\n",
       "      <td>A cryptic message from Bond’s past sends him o...</td>\n",
       "    </tr>\n",
       "    <tr>\n",
       "      <th>3</th>\n",
       "      <td>49026</td>\n",
       "      <td>The Dark Knight Rises</td>\n",
       "      <td>Following the death of District Attorney Harve...</td>\n",
       "    </tr>\n",
       "    <tr>\n",
       "      <th>4</th>\n",
       "      <td>49529</td>\n",
       "      <td>John Carter</td>\n",
       "      <td>John Carter is a war-weary, former military ca...</td>\n",
       "    </tr>\n",
       "  </tbody>\n",
       "</table>\n",
       "</div>"
      ],
      "text/plain": [
       "   movie_id                                     title  \\\n",
       "0     19995                                    Avatar   \n",
       "1       285  Pirates of the Caribbean: At World's End   \n",
       "2    206647                                   Spectre   \n",
       "3     49026                     The Dark Knight Rises   \n",
       "4     49529                               John Carter   \n",
       "\n",
       "                                                tags  \n",
       "0  In the 22nd century, a paraplegic Marine is di...  \n",
       "1  Captain Barbossa, long believed to be dead, ha...  \n",
       "2  A cryptic message from Bond’s past sends him o...  \n",
       "3  Following the death of District Attorney Harve...  \n",
       "4  John Carter is a war-weary, former military ca...  "
      ]
     },
     "execution_count": 38,
     "metadata": {},
     "output_type": "execute_result"
    }
   ],
   "source": [
    "new_df.head()"
   ]
  },
  {
   "cell_type": "code",
   "execution_count": 39,
   "id": "b29de17b",
   "metadata": {
    "execution": {
     "iopub.execute_input": "2023-08-03T01:51:00.822023Z",
     "iopub.status.busy": "2023-08-03T01:51:00.821574Z",
     "iopub.status.idle": "2023-08-03T01:51:00.829960Z",
     "shell.execute_reply": "2023-08-03T01:51:00.828925Z"
    },
    "papermill": {
     "duration": 0.027678,
     "end_time": "2023-08-03T01:51:00.831902",
     "exception": false,
     "start_time": "2023-08-03T01:51:00.804224",
     "status": "completed"
    },
    "tags": []
   },
   "outputs": [
    {
     "data": {
      "text/plain": [
       "'In the 22nd century, a paraplegic Marine is dispatched to the moon Pandora on a unique mission, but becomes torn between following orders and protecting an alien civilization. Action Adventure Fantasy ScienceFiction cultureclash future spacewar spacecolony society spacetravel futuristic romance space alien tribe alienplanet cgi marine soldier battle loveaffair antiwar powerrelations mindandsoul 3d SamWorthington ZoeSaldana SigourneyWeaver StephenLang MichelleRodriguez GiovanniRibisi JoelDavidMoore CCHPounder WesStudi LazAlonso DileepRao MattGerald SeanAnthonyMoran JasonWhyte ScottLawrence KellyKilgour JamesPatrickPitt SeanPatrickMurphy PeterDillon KevinDorman KelsonHenderson DavidVanHorn JacobTomuri MichaelBlain-Rozgay JonCurry LukeHawker WoodySchultz PeterMensah SoniaYee JahnelCurfman IlramChoi KylaWarren LisaRoumain DebraWilson ChrisMala TaylorKibby JodieLandau JulieLamm CullenB.Madden JosephBradyMadden FrankieTorres AustinWilson SaraWilson TamicaWashington-Miller LucyBriant NathanMeister GerryBlair MatthewChamberlain PaulYates WrayWilson JamesGaylyn MelvinLenoClarkIII CarvonFutrell BrandonJelkes MicahMoch HanniyahMuhammad ChristopherNolen ChristaOliver AprilMarieThomas BravitaA.Threatt ColinBleasdale MikeBodnar MattClayton NicoleDionne JamieHarrison AllanHenry AnthonyIngruber AshleyJeffery DeanKnowsley JosephMika-Hunt TerryNotary KaiPantano LoganPithyou StuartPollock Raja GarethRuck RhianSheehan T.J.Storm JodieTaylor AliciaVela-Bailey RichardWhiteside NikieZambo JuleneRenee JamesCameron'"
      ]
     },
     "execution_count": 39,
     "metadata": {},
     "output_type": "execute_result"
    }
   ],
   "source": [
    "new_df['tags'][0]"
   ]
  },
  {
   "cell_type": "code",
   "execution_count": 40,
   "id": "3663201c",
   "metadata": {
    "execution": {
     "iopub.execute_input": "2023-08-03T01:51:00.866906Z",
     "iopub.status.busy": "2023-08-03T01:51:00.865845Z",
     "iopub.status.idle": "2023-08-03T01:51:00.886173Z",
     "shell.execute_reply": "2023-08-03T01:51:00.885132Z"
    },
    "papermill": {
     "duration": 0.040029,
     "end_time": "2023-08-03T01:51:00.888340",
     "exception": false,
     "start_time": "2023-08-03T01:51:00.848311",
     "status": "completed"
    },
    "tags": []
   },
   "outputs": [
    {
     "name": "stderr",
     "output_type": "stream",
     "text": [
      "/tmp/ipykernel_20/1104234119.py:2: SettingWithCopyWarning: \n",
      "A value is trying to be set on a copy of a slice from a DataFrame.\n",
      "Try using .loc[row_indexer,col_indexer] = value instead\n",
      "\n",
      "See the caveats in the documentation: https://pandas.pydata.org/pandas-docs/stable/user_guide/indexing.html#returning-a-view-versus-a-copy\n",
      "  new_df['tags']=new_df['tags'].apply(lambda x:x.lower())\n"
     ]
    }
   ],
   "source": [
    "# converting tags into lower case\n",
    "new_df['tags']=new_df['tags'].apply(lambda x:x.lower())"
   ]
  },
  {
   "cell_type": "code",
   "execution_count": 41,
   "id": "66c036b1",
   "metadata": {
    "execution": {
     "iopub.execute_input": "2023-08-03T01:51:00.923211Z",
     "iopub.status.busy": "2023-08-03T01:51:00.922858Z",
     "iopub.status.idle": "2023-08-03T01:51:00.933429Z",
     "shell.execute_reply": "2023-08-03T01:51:00.932135Z"
    },
    "papermill": {
     "duration": 0.030223,
     "end_time": "2023-08-03T01:51:00.935372",
     "exception": false,
     "start_time": "2023-08-03T01:51:00.905149",
     "status": "completed"
    },
    "tags": []
   },
   "outputs": [
    {
     "data": {
      "text/html": [
       "<div>\n",
       "<style scoped>\n",
       "    .dataframe tbody tr th:only-of-type {\n",
       "        vertical-align: middle;\n",
       "    }\n",
       "\n",
       "    .dataframe tbody tr th {\n",
       "        vertical-align: top;\n",
       "    }\n",
       "\n",
       "    .dataframe thead th {\n",
       "        text-align: right;\n",
       "    }\n",
       "</style>\n",
       "<table border=\"1\" class=\"dataframe\">\n",
       "  <thead>\n",
       "    <tr style=\"text-align: right;\">\n",
       "      <th></th>\n",
       "      <th>movie_id</th>\n",
       "      <th>title</th>\n",
       "      <th>tags</th>\n",
       "    </tr>\n",
       "  </thead>\n",
       "  <tbody>\n",
       "    <tr>\n",
       "      <th>0</th>\n",
       "      <td>19995</td>\n",
       "      <td>Avatar</td>\n",
       "      <td>in the 22nd century, a paraplegic marine is di...</td>\n",
       "    </tr>\n",
       "    <tr>\n",
       "      <th>1</th>\n",
       "      <td>285</td>\n",
       "      <td>Pirates of the Caribbean: At World's End</td>\n",
       "      <td>captain barbossa, long believed to be dead, ha...</td>\n",
       "    </tr>\n",
       "    <tr>\n",
       "      <th>2</th>\n",
       "      <td>206647</td>\n",
       "      <td>Spectre</td>\n",
       "      <td>a cryptic message from bond’s past sends him o...</td>\n",
       "    </tr>\n",
       "    <tr>\n",
       "      <th>3</th>\n",
       "      <td>49026</td>\n",
       "      <td>The Dark Knight Rises</td>\n",
       "      <td>following the death of district attorney harve...</td>\n",
       "    </tr>\n",
       "    <tr>\n",
       "      <th>4</th>\n",
       "      <td>49529</td>\n",
       "      <td>John Carter</td>\n",
       "      <td>john carter is a war-weary, former military ca...</td>\n",
       "    </tr>\n",
       "  </tbody>\n",
       "</table>\n",
       "</div>"
      ],
      "text/plain": [
       "   movie_id                                     title  \\\n",
       "0     19995                                    Avatar   \n",
       "1       285  Pirates of the Caribbean: At World's End   \n",
       "2    206647                                   Spectre   \n",
       "3     49026                     The Dark Knight Rises   \n",
       "4     49529                               John Carter   \n",
       "\n",
       "                                                tags  \n",
       "0  in the 22nd century, a paraplegic marine is di...  \n",
       "1  captain barbossa, long believed to be dead, ha...  \n",
       "2  a cryptic message from bond’s past sends him o...  \n",
       "3  following the death of district attorney harve...  \n",
       "4  john carter is a war-weary, former military ca...  "
      ]
     },
     "execution_count": 41,
     "metadata": {},
     "output_type": "execute_result"
    }
   ],
   "source": [
    "new_df.head()"
   ]
  },
  {
   "cell_type": "code",
   "execution_count": 42,
   "id": "bb1e4296",
   "metadata": {
    "execution": {
     "iopub.execute_input": "2023-08-03T01:51:00.970345Z",
     "iopub.status.busy": "2023-08-03T01:51:00.969985Z",
     "iopub.status.idle": "2023-08-03T01:51:02.070446Z",
     "shell.execute_reply": "2023-08-03T01:51:02.069385Z"
    },
    "papermill": {
     "duration": 1.120363,
     "end_time": "2023-08-03T01:51:02.072587",
     "exception": false,
     "start_time": "2023-08-03T01:51:00.952224",
     "status": "completed"
    },
    "tags": []
   },
   "outputs": [
    {
     "name": "stderr",
     "output_type": "stream",
     "text": [
      "/opt/conda/lib/python3.10/site-packages/scipy/__init__.py:146: UserWarning: A NumPy version >=1.16.5 and <1.23.0 is required for this version of SciPy (detected version 1.23.5\n",
      "  warnings.warn(f\"A NumPy version >={np_minversion} and <{np_maxversion}\"\n"
     ]
    }
   ],
   "source": [
    "from sklearn.feature_extraction.text import CountVectorizer\n",
    "cv=CountVectorizer(max_features=5000,stop_words='english')\n"
   ]
  },
  {
   "cell_type": "code",
   "execution_count": 43,
   "id": "51bb2b56",
   "metadata": {
    "execution": {
     "iopub.execute_input": "2023-08-03T01:51:02.111091Z",
     "iopub.status.busy": "2023-08-03T01:51:02.110716Z",
     "iopub.status.idle": "2023-08-03T01:51:02.749054Z",
     "shell.execute_reply": "2023-08-03T01:51:02.747759Z"
    },
    "papermill": {
     "duration": 0.66213,
     "end_time": "2023-08-03T01:51:02.751546",
     "exception": false,
     "start_time": "2023-08-03T01:51:02.089416",
     "status": "completed"
    },
    "tags": []
   },
   "outputs": [],
   "source": [
    "vectors=cv.fit_transform(new_df['tags']).toarray()"
   ]
  },
  {
   "cell_type": "code",
   "execution_count": 44,
   "id": "8ad9ea7e",
   "metadata": {
    "execution": {
     "iopub.execute_input": "2023-08-03T01:51:02.786314Z",
     "iopub.status.busy": "2023-08-03T01:51:02.785962Z",
     "iopub.status.idle": "2023-08-03T01:51:02.797052Z",
     "shell.execute_reply": "2023-08-03T01:51:02.795809Z"
    },
    "papermill": {
     "duration": 0.031763,
     "end_time": "2023-08-03T01:51:02.800100",
     "exception": false,
     "start_time": "2023-08-03T01:51:02.768337",
     "status": "completed"
    },
    "tags": []
   },
   "outputs": [
    {
     "data": {
      "text/plain": [
       "array([[0, 0, 0, ..., 0, 0, 0],\n",
       "       [0, 0, 0, ..., 0, 0, 0],\n",
       "       [0, 0, 0, ..., 0, 0, 0],\n",
       "       ...,\n",
       "       [0, 0, 0, ..., 0, 0, 0],\n",
       "       [0, 0, 0, ..., 0, 0, 0],\n",
       "       [0, 0, 0, ..., 0, 0, 0]])"
      ]
     },
     "execution_count": 44,
     "metadata": {},
     "output_type": "execute_result"
    }
   ],
   "source": [
    "vectors"
   ]
  },
  {
   "cell_type": "code",
   "execution_count": 45,
   "id": "2f60ba68",
   "metadata": {
    "execution": {
     "iopub.execute_input": "2023-08-03T01:51:02.835983Z",
     "iopub.status.busy": "2023-08-03T01:51:02.835630Z",
     "iopub.status.idle": "2023-08-03T01:51:02.842931Z",
     "shell.execute_reply": "2023-08-03T01:51:02.841761Z"
    },
    "papermill": {
     "duration": 0.027366,
     "end_time": "2023-08-03T01:51:02.844912",
     "exception": false,
     "start_time": "2023-08-03T01:51:02.817546",
     "status": "completed"
    },
    "tags": []
   },
   "outputs": [
    {
     "data": {
      "text/plain": [
       "array([0, 0, 0, ..., 0, 0, 0])"
      ]
     },
     "execution_count": 45,
     "metadata": {},
     "output_type": "execute_result"
    }
   ],
   "source": [
    "vectors[0]"
   ]
  },
  {
   "cell_type": "code",
   "execution_count": 46,
   "id": "06937edf",
   "metadata": {
    "execution": {
     "iopub.execute_input": "2023-08-03T01:51:02.881002Z",
     "iopub.status.busy": "2023-08-03T01:51:02.880603Z",
     "iopub.status.idle": "2023-08-03T01:51:02.892147Z",
     "shell.execute_reply": "2023-08-03T01:51:02.890798Z"
    },
    "papermill": {
     "duration": 0.032079,
     "end_time": "2023-08-03T01:51:02.894214",
     "exception": false,
     "start_time": "2023-08-03T01:51:02.862135",
     "status": "completed"
    },
    "tags": []
   },
   "outputs": [
    {
     "data": {
      "text/plain": [
       "array(['000', '007', '10', ..., 'zoo', 'zooeydeschanel', 'zoëkravitz'],\n",
       "      dtype=object)"
      ]
     },
     "execution_count": 46,
     "metadata": {},
     "output_type": "execute_result"
    }
   ],
   "source": [
    "cv.get_feature_names_out()"
   ]
  },
  {
   "cell_type": "markdown",
   "id": "a71dcdac",
   "metadata": {
    "papermill": {
     "duration": 0.017486,
     "end_time": "2023-08-03T01:51:02.929327",
     "exception": false,
     "start_time": "2023-08-03T01:51:02.911841",
     "status": "completed"
    },
    "tags": []
   },
   "source": [
    "Stemmiing is used "
   ]
  },
  {
   "cell_type": "code",
   "execution_count": 47,
   "id": "01c5340c",
   "metadata": {
    "execution": {
     "iopub.execute_input": "2023-08-03T01:51:02.965080Z",
     "iopub.status.busy": "2023-08-03T01:51:02.964668Z",
     "iopub.status.idle": "2023-08-03T01:51:03.709163Z",
     "shell.execute_reply": "2023-08-03T01:51:03.707898Z"
    },
    "papermill": {
     "duration": 0.765424,
     "end_time": "2023-08-03T01:51:03.711581",
     "exception": false,
     "start_time": "2023-08-03T01:51:02.946157",
     "status": "completed"
    },
    "tags": []
   },
   "outputs": [],
   "source": [
    "import nltk"
   ]
  },
  {
   "cell_type": "code",
   "execution_count": 48,
   "id": "e196d35f",
   "metadata": {
    "execution": {
     "iopub.execute_input": "2023-08-03T01:51:03.746989Z",
     "iopub.status.busy": "2023-08-03T01:51:03.746540Z",
     "iopub.status.idle": "2023-08-03T01:51:03.750721Z",
     "shell.execute_reply": "2023-08-03T01:51:03.749872Z"
    },
    "papermill": {
     "duration": 0.024151,
     "end_time": "2023-08-03T01:51:03.752530",
     "exception": false,
     "start_time": "2023-08-03T01:51:03.728379",
     "status": "completed"
    },
    "tags": []
   },
   "outputs": [],
   "source": [
    "from nltk.stem.porter import PorterStemmer\n",
    "ps=PorterStemmer()"
   ]
  },
  {
   "cell_type": "code",
   "execution_count": 49,
   "id": "ed9d50ca",
   "metadata": {
    "execution": {
     "iopub.execute_input": "2023-08-03T01:51:03.789155Z",
     "iopub.status.busy": "2023-08-03T01:51:03.788801Z",
     "iopub.status.idle": "2023-08-03T01:51:03.795769Z",
     "shell.execute_reply": "2023-08-03T01:51:03.794157Z"
    },
    "papermill": {
     "duration": 0.02828,
     "end_time": "2023-08-03T01:51:03.798437",
     "exception": false,
     "start_time": "2023-08-03T01:51:03.770157",
     "status": "completed"
    },
    "tags": []
   },
   "outputs": [],
   "source": [
    "def stem(text):\n",
    "    y=[]\n",
    "    for i in text.split():\n",
    "        y.append(ps.stem(i))\n",
    "        \n",
    "    return \" \".join(y)    #list to string\n",
    "        "
   ]
  },
  {
   "cell_type": "code",
   "execution_count": 50,
   "id": "28f38494",
   "metadata": {
    "execution": {
     "iopub.execute_input": "2023-08-03T01:51:03.834221Z",
     "iopub.status.busy": "2023-08-03T01:51:03.833866Z",
     "iopub.status.idle": "2023-08-03T01:51:12.728244Z",
     "shell.execute_reply": "2023-08-03T01:51:12.726685Z"
    },
    "papermill": {
     "duration": 8.915047,
     "end_time": "2023-08-03T01:51:12.730890",
     "exception": false,
     "start_time": "2023-08-03T01:51:03.815843",
     "status": "completed"
    },
    "tags": []
   },
   "outputs": [
    {
     "name": "stderr",
     "output_type": "stream",
     "text": [
      "/tmp/ipykernel_20/3514595201.py:1: SettingWithCopyWarning: \n",
      "A value is trying to be set on a copy of a slice from a DataFrame.\n",
      "Try using .loc[row_indexer,col_indexer] = value instead\n",
      "\n",
      "See the caveats in the documentation: https://pandas.pydata.org/pandas-docs/stable/user_guide/indexing.html#returning-a-view-versus-a-copy\n",
      "  new_df['tags']=new_df['tags'].apply(stem)\n"
     ]
    }
   ],
   "source": [
    "new_df['tags']=new_df['tags'].apply(stem)"
   ]
  },
  {
   "cell_type": "code",
   "execution_count": 51,
   "id": "8bcf8f45",
   "metadata": {
    "execution": {
     "iopub.execute_input": "2023-08-03T01:51:12.766378Z",
     "iopub.status.busy": "2023-08-03T01:51:12.766030Z",
     "iopub.status.idle": "2023-08-03T01:51:12.770781Z",
     "shell.execute_reply": "2023-08-03T01:51:12.769883Z"
    },
    "papermill": {
     "duration": 0.024629,
     "end_time": "2023-08-03T01:51:12.772676",
     "exception": false,
     "start_time": "2023-08-03T01:51:12.748047",
     "status": "completed"
    },
    "tags": []
   },
   "outputs": [],
   "source": [
    "from sklearn.metrics.pairwise import cosine_similarity"
   ]
  },
  {
   "cell_type": "code",
   "execution_count": 52,
   "id": "83818170",
   "metadata": {
    "execution": {
     "iopub.execute_input": "2023-08-03T01:51:12.807782Z",
     "iopub.status.busy": "2023-08-03T01:51:12.807419Z",
     "iopub.status.idle": "2023-08-03T01:51:14.256004Z",
     "shell.execute_reply": "2023-08-03T01:51:14.255191Z"
    },
    "papermill": {
     "duration": 1.468694,
     "end_time": "2023-08-03T01:51:14.258273",
     "exception": false,
     "start_time": "2023-08-03T01:51:12.789579",
     "status": "completed"
    },
    "tags": []
   },
   "outputs": [],
   "source": [
    "# calcualting every movie distance with every movie\n",
    "# example calculating  distance of 1st movie with every 4806 movies\n",
    "\n",
    "similarity=cosine_similarity(vectors)"
   ]
  },
  {
   "cell_type": "code",
   "execution_count": 53,
   "id": "6f2d82af",
   "metadata": {
    "execution": {
     "iopub.execute_input": "2023-08-03T01:51:14.303939Z",
     "iopub.status.busy": "2023-08-03T01:51:14.303572Z",
     "iopub.status.idle": "2023-08-03T01:51:14.312320Z",
     "shell.execute_reply": "2023-08-03T01:51:14.311515Z"
    },
    "papermill": {
     "duration": 0.03427,
     "end_time": "2023-08-03T01:51:14.314465",
     "exception": false,
     "start_time": "2023-08-03T01:51:14.280195",
     "status": "completed"
    },
    "tags": []
   },
   "outputs": [
    {
     "data": {
      "text/plain": [
       "array([[1.        , 0.07142857, 0.05216405, ..., 0.02326211, 0.02571722,\n",
       "        0.        ],\n",
       "       [0.07142857, 1.        , 0.07824608, ..., 0.02326211, 0.        ,\n",
       "        0.        ],\n",
       "       [0.05216405, 0.07824608, 1.        , ..., 0.02548236, 0.        ,\n",
       "        0.        ],\n",
       "       ...,\n",
       "       [0.02326211, 0.02326211, 0.02548236, ..., 1.        , 0.07537784,\n",
       "        0.05025189],\n",
       "       [0.02571722, 0.        , 0.        , ..., 0.07537784, 1.        ,\n",
       "        0.05555556],\n",
       "       [0.        , 0.        , 0.        , ..., 0.05025189, 0.05555556,\n",
       "        1.        ]])"
      ]
     },
     "execution_count": 53,
     "metadata": {},
     "output_type": "execute_result"
    }
   ],
   "source": [
    "similarity"
   ]
  },
  {
   "cell_type": "code",
   "execution_count": 54,
   "id": "8bbfa00d",
   "metadata": {
    "execution": {
     "iopub.execute_input": "2023-08-03T01:51:14.354765Z",
     "iopub.status.busy": "2023-08-03T01:51:14.354414Z",
     "iopub.status.idle": "2023-08-03T01:51:14.360272Z",
     "shell.execute_reply": "2023-08-03T01:51:14.359423Z"
    },
    "papermill": {
     "duration": 0.026678,
     "end_time": "2023-08-03T01:51:14.362936",
     "exception": false,
     "start_time": "2023-08-03T01:51:14.336258",
     "status": "completed"
    },
    "tags": []
   },
   "outputs": [
    {
     "data": {
      "text/plain": [
       "array([1.        , 0.07142857, 0.05216405, ..., 0.02326211, 0.02571722,\n",
       "       0.        ])"
      ]
     },
     "execution_count": 54,
     "metadata": {},
     "output_type": "execute_result"
    }
   ],
   "source": [
    "# It is showing the distance of 1st movie with every other movies\n",
    "similarity[0]"
   ]
  },
  {
   "cell_type": "code",
   "execution_count": 55,
   "id": "bfd8c67a",
   "metadata": {
    "execution": {
     "iopub.execute_input": "2023-08-03T01:51:14.399545Z",
     "iopub.status.busy": "2023-08-03T01:51:14.399212Z",
     "iopub.status.idle": "2023-08-03T01:51:14.410867Z",
     "shell.execute_reply": "2023-08-03T01:51:14.409035Z"
    },
    "papermill": {
     "duration": 0.033125,
     "end_time": "2023-08-03T01:51:14.413635",
     "exception": false,
     "start_time": "2023-08-03T01:51:14.380510",
     "status": "completed"
    },
    "tags": []
   },
   "outputs": [
    {
     "data": {
      "text/plain": [
       "[(1920, 0.23473823893078552),\n",
       " (1216, 0.23294541397390256),\n",
       " (582, 0.23097828906119441),\n",
       " (539, 0.2252817784447915),\n",
       " (507, 0.21912524504463887)]"
      ]
     },
     "execution_count": 55,
     "metadata": {},
     "output_type": "execute_result"
    }
   ],
   "source": [
    "# Here we are not doing sorting on first number , we have to do sorting from second number\n",
    "\n",
    "sorted(list(enumerate(similarity[0])),reverse=True,key=lambda x:x[1])[1:6]"
   ]
  },
  {
   "cell_type": "code",
   "execution_count": 56,
   "id": "10bf526d",
   "metadata": {
    "execution": {
     "iopub.execute_input": "2023-08-03T01:51:14.449473Z",
     "iopub.status.busy": "2023-08-03T01:51:14.449136Z",
     "iopub.status.idle": "2023-08-03T01:51:14.455187Z",
     "shell.execute_reply": "2023-08-03T01:51:14.453793Z"
    },
    "papermill": {
     "duration": 0.026323,
     "end_time": "2023-08-03T01:51:14.457194",
     "exception": false,
     "start_time": "2023-08-03T01:51:14.430871",
     "status": "completed"
    },
    "tags": []
   },
   "outputs": [],
   "source": [
    "def recommend(movie):\n",
    "    movie_index= new_df[new_df['title']==movie].index[0]\n",
    "    distances=similarity[movie_index]\n",
    "    movies_list=sorted(list(enumerate(distances)),reverse=True,key=lambda x:x[1])[1:6]\n",
    "    \n",
    "    for i in movies_list:\n",
    "        print(new_df.iloc[i[0]].title)\n",
    "        \n",
    "    "
   ]
  },
  {
   "cell_type": "code",
   "execution_count": 57,
   "id": "d1704402",
   "metadata": {
    "execution": {
     "iopub.execute_input": "2023-08-03T01:51:14.492129Z",
     "iopub.status.busy": "2023-08-03T01:51:14.491793Z",
     "iopub.status.idle": "2023-08-03T01:51:14.503300Z",
     "shell.execute_reply": "2023-08-03T01:51:14.501890Z"
    },
    "papermill": {
     "duration": 0.030868,
     "end_time": "2023-08-03T01:51:14.504991",
     "exception": false,
     "start_time": "2023-08-03T01:51:14.474123",
     "status": "completed"
    },
    "tags": []
   },
   "outputs": [
    {
     "name": "stdout",
     "output_type": "stream",
     "text": [
      "The Dark Knight\n",
      "The Dark Knight Rises\n",
      "Amidst the Devil's Wings\n",
      "Batman\n",
      "Batman & Robin\n"
     ]
    }
   ],
   "source": [
    "recommend('Batman Begins')"
   ]
  },
  {
   "cell_type": "code",
   "execution_count": 58,
   "id": "acacb0b8",
   "metadata": {
    "execution": {
     "iopub.execute_input": "2023-08-03T01:51:14.540982Z",
     "iopub.status.busy": "2023-08-03T01:51:14.540575Z",
     "iopub.status.idle": "2023-08-03T01:51:14.548298Z",
     "shell.execute_reply": "2023-08-03T01:51:14.547179Z"
    },
    "papermill": {
     "duration": 0.028047,
     "end_time": "2023-08-03T01:51:14.550076",
     "exception": false,
     "start_time": "2023-08-03T01:51:14.522029",
     "status": "completed"
    },
    "tags": []
   },
   "outputs": [
    {
     "data": {
      "text/plain": [
       "'Aliens vs Predator: Requiem'"
      ]
     },
     "execution_count": 58,
     "metadata": {},
     "output_type": "execute_result"
    }
   ],
   "source": [
    "new_df.iloc[1216].title"
   ]
  },
  {
   "cell_type": "code",
   "execution_count": 59,
   "id": "30abe531",
   "metadata": {
    "execution": {
     "iopub.execute_input": "2023-08-03T01:51:14.586144Z",
     "iopub.status.busy": "2023-08-03T01:51:14.585761Z",
     "iopub.status.idle": "2023-08-03T01:51:14.590259Z",
     "shell.execute_reply": "2023-08-03T01:51:14.589317Z"
    },
    "papermill": {
     "duration": 0.025259,
     "end_time": "2023-08-03T01:51:14.592643",
     "exception": false,
     "start_time": "2023-08-03T01:51:14.567384",
     "status": "completed"
    },
    "tags": []
   },
   "outputs": [],
   "source": [
    "import pickle"
   ]
  },
  {
   "cell_type": "code",
   "execution_count": 60,
   "id": "89a67300",
   "metadata": {
    "execution": {
     "iopub.execute_input": "2023-08-03T01:51:14.629657Z",
     "iopub.status.busy": "2023-08-03T01:51:14.629295Z",
     "iopub.status.idle": "2023-08-03T01:51:14.638878Z",
     "shell.execute_reply": "2023-08-03T01:51:14.638191Z"
    },
    "papermill": {
     "duration": 0.030693,
     "end_time": "2023-08-03T01:51:14.641122",
     "exception": false,
     "start_time": "2023-08-03T01:51:14.610429",
     "status": "completed"
    },
    "tags": []
   },
   "outputs": [],
   "source": [
    "pickle.dump(new_df,open('movies.pkl','wb'))"
   ]
  },
  {
   "cell_type": "code",
   "execution_count": 61,
   "id": "468118d6",
   "metadata": {
    "execution": {
     "iopub.execute_input": "2023-08-03T01:51:14.679153Z",
     "iopub.status.busy": "2023-08-03T01:51:14.678799Z",
     "iopub.status.idle": "2023-08-03T01:51:14.685181Z",
     "shell.execute_reply": "2023-08-03T01:51:14.683769Z"
    },
    "papermill": {
     "duration": 0.027079,
     "end_time": "2023-08-03T01:51:14.686972",
     "exception": false,
     "start_time": "2023-08-03T01:51:14.659893",
     "status": "completed"
    },
    "tags": []
   },
   "outputs": [
    {
     "data": {
      "text/plain": [
       "array(['Avatar', \"Pirates of the Caribbean: At World's End\", 'Spectre',\n",
       "       ..., 'Signed, Sealed, Delivered', 'Shanghai Calling',\n",
       "       'My Date with Drew'], dtype=object)"
      ]
     },
     "execution_count": 61,
     "metadata": {},
     "output_type": "execute_result"
    }
   ],
   "source": [
    "new_df['title'].values"
   ]
  },
  {
   "cell_type": "code",
   "execution_count": 62,
   "id": "08ecf28e",
   "metadata": {
    "execution": {
     "iopub.execute_input": "2023-08-03T01:51:14.723999Z",
     "iopub.status.busy": "2023-08-03T01:51:14.723601Z",
     "iopub.status.idle": "2023-08-03T01:51:14.745721Z",
     "shell.execute_reply": "2023-08-03T01:51:14.744652Z"
    },
    "papermill": {
     "duration": 0.043007,
     "end_time": "2023-08-03T01:51:14.747724",
     "exception": false,
     "start_time": "2023-08-03T01:51:14.704717",
     "status": "completed"
    },
    "tags": []
   },
   "outputs": [],
   "source": [
    "pickle.dump(new_df.to_dict(),open('movie_dict.pkl','wb'))"
   ]
  },
  {
   "cell_type": "code",
   "execution_count": 63,
   "id": "802d9246",
   "metadata": {
    "execution": {
     "iopub.execute_input": "2023-08-03T01:51:14.785198Z",
     "iopub.status.busy": "2023-08-03T01:51:14.784826Z",
     "iopub.status.idle": "2023-08-03T01:51:14.961374Z",
     "shell.execute_reply": "2023-08-03T01:51:14.960379Z"
    },
    "papermill": {
     "duration": 0.198564,
     "end_time": "2023-08-03T01:51:14.963826",
     "exception": false,
     "start_time": "2023-08-03T01:51:14.765262",
     "status": "completed"
    },
    "tags": []
   },
   "outputs": [],
   "source": [
    "pickle.dump(similarity,open('similarity.pkl','wb'))"
   ]
  }
 ],
 "metadata": {
  "kernelspec": {
   "display_name": "Python 3",
   "language": "python",
   "name": "python3"
  },
  "language_info": {
   "codemirror_mode": {
    "name": "ipython",
    "version": 3
   },
   "file_extension": ".py",
   "mimetype": "text/x-python",
   "name": "python",
   "nbconvert_exporter": "python",
   "pygments_lexer": "ipython3",
   "version": "3.10.12"
  },
  "papermill": {
   "default_parameters": {},
   "duration": 34.309596,
   "end_time": "2023-08-03T01:51:16.004348",
   "environment_variables": {},
   "exception": null,
   "input_path": "__notebook__.ipynb",
   "output_path": "__notebook__.ipynb",
   "parameters": {},
   "start_time": "2023-08-03T01:50:41.694752",
   "version": "2.4.0"
  }
 },
 "nbformat": 4,
 "nbformat_minor": 5
}
